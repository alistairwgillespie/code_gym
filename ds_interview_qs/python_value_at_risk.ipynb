{
 "cells": [
  {
   "cell_type": "code",
   "execution_count": null,
   "metadata": {},
   "outputs": [],
   "source": [
    "!pip install pandas_datareader"
   ]
  },
  {
   "cell_type": "code",
   "execution_count": null,
   "metadata": {},
   "outputs": [],
   "source": [
    "!pip install yfinance --upgrade --no-cache-dir\n",
    "!pip install fix_yahoo_finance --upgrade --no-cache-dir"
   ]
  },
  {
   "cell_type": "code",
   "execution_count": null,
   "metadata": {},
   "outputs": [],
   "source": [
    "!pip install yfinance -U"
   ]
  },
  {
   "cell_type": "markdown",
   "metadata": {},
   "source": [
    "# Value at Risk (VaR) of Portfolio"
   ]
  },
  {
   "cell_type": "markdown",
   "metadata": {},
   "source": [
    "<p>Suppose you're given a portfolio of equities and asked to calculate the 'value at risk' (VaR) via the <a href=\"https://www.investopedia.com/ask/answers/041715/what-variancecovariance-matrix-or-parametric-method-value-risk-var.asp\" target=\"_blank\">variance-covariance method</a>.</p>\n",
    "<p>The VaR is a statistical risk management technique measuring the maximum loss that an investment portfolio is likely to face within a specified time frame with a certain degree of confidence. The VaR is a commonly calculated metric used within a suite of financial metrics and models to help aid in investment decisions.</p>\n",
    "<p>In order to calculate the VaR of your portfolio, you can follow the steps below:</p>\n",
    "<ol>\n",
    "  <li>Calculate periodic returns of the stocks in your portfolio</li>\n",
    "  <li>Create a covariance matrix based on (1)</li>\n",
    "  <li>Calculate the portfolio mean and standard deviation (weighted based on investment levels of each stock in portfolio)</li>\n",
    "  <li>Calculate the inverse of the normal cumulative distribution with a specified probability, standard deviation, and mean</li>\n",
    "   <li>Estimate the value at risk for the portfolio by subtracting the initial investment from the calculation in step 4</li>\n",
    "  </ol>\n",
    "  <p>To help get you started, you can reference this <a href=\"https://colab.research.google.com/drive/1dPrUZocrhG1dWyZP33jGaXiKg1oFSdpi\">Google Colab</a> notebook with the historical returns for a portfolio of the following equities:\n",
    "  <pre>['AAPL','FB', 'C', 'DIS']</pre>\n",
    "  </p>\n",
    "  <p>Full solution will be provided in python to premium users.</p>\n",
    "  \n",
    "  "
   ]
  },
  {
   "cell_type": "code",
   "execution_count": 9,
   "metadata": {},
   "outputs": [],
   "source": [
    "import pandas as pd\n",
    "from pandas_datareader import data as pdr\n",
    "import fix_yahoo_finance as yf\n",
    "import numpy as np\n",
    "import datetime as dt"
   ]
  },
  {
   "cell_type": "code",
   "execution_count": 10,
   "metadata": {},
   "outputs": [],
   "source": [
    "#Create our portfolio of equities\n",
    "tickers = ['AAPL','FB', 'C', 'DIS']\n",
    " \n",
    "#Set the investment weights (I arbitrarily picked for example)\n",
    "weights = np.array([.25, .3, .15, .3])\n",
    " \n",
    "#Set an initial investment level\n",
    "initial_investment = 1000000\n",
    " \n",
    "#Download closing prices\n",
    "data = pdr.get_data_yahoo(tickers, start=\"2018-01-01\", end=dt.date.today())['Close']\n",
    " \n",
    "#From the closing prices, calculate periodic returns\n",
    "returns = data.pct_change()"
   ]
  },
  {
   "cell_type": "code",
   "execution_count": 11,
   "metadata": {},
   "outputs": [
    {
     "data": {
      "text/html": [
       "<div>\n",
       "<style scoped>\n",
       "    .dataframe tbody tr th:only-of-type {\n",
       "        vertical-align: middle;\n",
       "    }\n",
       "\n",
       "    .dataframe tbody tr th {\n",
       "        vertical-align: top;\n",
       "    }\n",
       "\n",
       "    .dataframe thead th {\n",
       "        text-align: right;\n",
       "    }\n",
       "</style>\n",
       "<table border=\"1\" class=\"dataframe\">\n",
       "  <thead>\n",
       "    <tr style=\"text-align: right;\">\n",
       "      <th>Symbols</th>\n",
       "      <th>AAPL</th>\n",
       "      <th>FB</th>\n",
       "      <th>C</th>\n",
       "      <th>DIS</th>\n",
       "    </tr>\n",
       "    <tr>\n",
       "      <th>Date</th>\n",
       "      <th></th>\n",
       "      <th></th>\n",
       "      <th></th>\n",
       "      <th></th>\n",
       "    </tr>\n",
       "  </thead>\n",
       "  <tbody>\n",
       "    <tr>\n",
       "      <th>2018-01-02</th>\n",
       "      <td>NaN</td>\n",
       "      <td>NaN</td>\n",
       "      <td>NaN</td>\n",
       "      <td>NaN</td>\n",
       "    </tr>\n",
       "    <tr>\n",
       "      <th>2018-01-03</th>\n",
       "      <td>-0.000174</td>\n",
       "      <td>0.017914</td>\n",
       "      <td>0.003093</td>\n",
       "      <td>0.004293</td>\n",
       "    </tr>\n",
       "    <tr>\n",
       "      <th>2018-01-04</th>\n",
       "      <td>0.004645</td>\n",
       "      <td>-0.001841</td>\n",
       "      <td>0.012334</td>\n",
       "      <td>-0.000445</td>\n",
       "    </tr>\n",
       "    <tr>\n",
       "      <th>2018-01-05</th>\n",
       "      <td>0.011385</td>\n",
       "      <td>0.013671</td>\n",
       "      <td>-0.001324</td>\n",
       "      <td>-0.005435</td>\n",
       "    </tr>\n",
       "    <tr>\n",
       "      <th>2018-01-08</th>\n",
       "      <td>-0.003714</td>\n",
       "      <td>0.007653</td>\n",
       "      <td>-0.011670</td>\n",
       "      <td>-0.014334</td>\n",
       "    </tr>\n",
       "  </tbody>\n",
       "</table>\n",
       "</div>"
      ],
      "text/plain": [
       "Symbols         AAPL        FB         C       DIS\n",
       "Date                                              \n",
       "2018-01-02       NaN       NaN       NaN       NaN\n",
       "2018-01-03 -0.000174  0.017914  0.003093  0.004293\n",
       "2018-01-04  0.004645 -0.001841  0.012334 -0.000445\n",
       "2018-01-05  0.011385  0.013671 -0.001324 -0.005435\n",
       "2018-01-08 -0.003714  0.007653 -0.011670 -0.014334"
      ]
     },
     "execution_count": 11,
     "metadata": {},
     "output_type": "execute_result"
    }
   ],
   "source": [
    "returns.head()"
   ]
  },
  {
   "cell_type": "code",
   "execution_count": 29,
   "metadata": {},
   "outputs": [],
   "source": [
    "from scipy.stats import norm"
   ]
  },
  {
   "cell_type": "code",
   "execution_count": 30,
   "metadata": {},
   "outputs": [],
   "source": [
    "cov_matrix = returns.cov()"
   ]
  },
  {
   "cell_type": "code",
   "execution_count": 45,
   "metadata": {},
   "outputs": [
    {
     "data": {
      "text/html": [
       "<div>\n",
       "<style scoped>\n",
       "    .dataframe tbody tr th:only-of-type {\n",
       "        vertical-align: middle;\n",
       "    }\n",
       "\n",
       "    .dataframe tbody tr th {\n",
       "        vertical-align: top;\n",
       "    }\n",
       "\n",
       "    .dataframe thead th {\n",
       "        text-align: right;\n",
       "    }\n",
       "</style>\n",
       "<table border=\"1\" class=\"dataframe\">\n",
       "  <thead>\n",
       "    <tr style=\"text-align: right;\">\n",
       "      <th>Symbols</th>\n",
       "      <th>AAPL</th>\n",
       "      <th>FB</th>\n",
       "      <th>C</th>\n",
       "      <th>DIS</th>\n",
       "    </tr>\n",
       "    <tr>\n",
       "      <th>Symbols</th>\n",
       "      <th></th>\n",
       "      <th></th>\n",
       "      <th></th>\n",
       "      <th></th>\n",
       "    </tr>\n",
       "  </thead>\n",
       "  <tbody>\n",
       "    <tr>\n",
       "      <th>AAPL</th>\n",
       "      <td>0.000491</td>\n",
       "      <td>0.000326</td>\n",
       "      <td>0.000342</td>\n",
       "      <td>0.000240</td>\n",
       "    </tr>\n",
       "    <tr>\n",
       "      <th>FB</th>\n",
       "      <td>0.000326</td>\n",
       "      <td>0.000577</td>\n",
       "      <td>0.000316</td>\n",
       "      <td>0.000223</td>\n",
       "    </tr>\n",
       "    <tr>\n",
       "      <th>C</th>\n",
       "      <td>0.000342</td>\n",
       "      <td>0.000316</td>\n",
       "      <td>0.000774</td>\n",
       "      <td>0.000386</td>\n",
       "    </tr>\n",
       "    <tr>\n",
       "      <th>DIS</th>\n",
       "      <td>0.000240</td>\n",
       "      <td>0.000223</td>\n",
       "      <td>0.000386</td>\n",
       "      <td>0.000410</td>\n",
       "    </tr>\n",
       "  </tbody>\n",
       "</table>\n",
       "</div>"
      ],
      "text/plain": [
       "Symbols      AAPL        FB         C       DIS\n",
       "Symbols                                        \n",
       "AAPL     0.000491  0.000326  0.000342  0.000240\n",
       "FB       0.000326  0.000577  0.000316  0.000223\n",
       "C        0.000342  0.000316  0.000774  0.000386\n",
       "DIS      0.000240  0.000223  0.000386  0.000410"
      ]
     },
     "execution_count": 45,
     "metadata": {},
     "output_type": "execute_result"
    }
   ],
   "source": [
    "cov_matrix"
   ]
  },
  {
   "cell_type": "code",
   "execution_count": 46,
   "metadata": {},
   "outputs": [
    {
     "data": {
      "text/plain": [
       "array([0.00034389, 0.00036888, 0.00041209, 0.00030786])"
      ]
     },
     "execution_count": 46,
     "metadata": {},
     "output_type": "execute_result"
    }
   ],
   "source": [
    "weights.T.dot(cov_matrix)"
   ]
  },
  {
   "cell_type": "code",
   "execution_count": 31,
   "metadata": {},
   "outputs": [],
   "source": [
    "avg_rets = returns.mean()"
   ]
  },
  {
   "cell_type": "code",
   "execution_count": 32,
   "metadata": {},
   "outputs": [
    {
     "data": {
      "text/plain": [
       "0.0006844320976107567"
      ]
     },
     "execution_count": 32,
     "metadata": {},
     "output_type": "execute_result"
    }
   ],
   "source": [
    "portfolio_mean = avg_rets.dot(weights)\n",
    "portfolio_mean"
   ]
  },
  {
   "cell_type": "code",
   "execution_count": 33,
   "metadata": {},
   "outputs": [
    {
     "data": {
      "text/plain": [
       "0.018729844601518678"
      ]
     },
     "execution_count": 33,
     "metadata": {},
     "output_type": "execute_result"
    }
   ],
   "source": [
    "portfolio_std = np.sqrt(weights.T.dot(cov_matrix).dot(weights))\n",
    "portfolio_std"
   ]
  },
  {
   "cell_type": "code",
   "execution_count": 34,
   "metadata": {},
   "outputs": [
    {
     "data": {
      "text/plain": [
       "1000684.4320976107"
      ]
     },
     "execution_count": 34,
     "metadata": {},
     "output_type": "execute_result"
    }
   ],
   "source": [
    "mean_investment = (1 + portfolio_mean) * initial_investment\n",
    "mean_investment"
   ]
  },
  {
   "cell_type": "code",
   "execution_count": 35,
   "metadata": {},
   "outputs": [
    {
     "data": {
      "text/plain": [
       "18729.84460151868"
      ]
     },
     "execution_count": 35,
     "metadata": {},
     "output_type": "execute_result"
    }
   ],
   "source": [
    "stdev_investment = initial_investment * portfolio_std\n",
    "stdev_investment"
   ]
  },
  {
   "cell_type": "code",
   "execution_count": 36,
   "metadata": {},
   "outputs": [],
   "source": [
    "conf_level = 0.05"
   ]
  },
  {
   "cell_type": "code",
   "execution_count": 38,
   "metadata": {},
   "outputs": [],
   "source": [
    "cutoff1 = norm.ppf(conf_level, mean_investment, stdev_investment)"
   ]
  },
  {
   "cell_type": "code",
   "execution_count": 41,
   "metadata": {},
   "outputs": [
    {
     "data": {
      "text/plain": [
       "969876.5792725652"
      ]
     },
     "execution_count": 41,
     "metadata": {},
     "output_type": "execute_result"
    }
   ],
   "source": [
    "cutoff1"
   ]
  },
  {
   "cell_type": "code",
   "execution_count": 40,
   "metadata": {},
   "outputs": [
    {
     "data": {
      "text/plain": [
       "30123.4207274348"
      ]
     },
     "execution_count": 40,
     "metadata": {},
     "output_type": "execute_result"
    }
   ],
   "source": [
    "var_1d1 = initial_investment - cutoff1\n",
    "var_1d1"
   ]
  },
  {
   "cell_type": "code",
   "execution_count": 43,
   "metadata": {},
   "outputs": [
    {
     "name": "stdout",
     "output_type": "stream",
     "text": [
      "1 day VaR @ 95% confidence: 30123.42\n",
      "2 day VaR @ 95% confidence: 42600.95\n",
      "3 day VaR @ 95% confidence: 52175.3\n",
      "4 day VaR @ 95% confidence: 60246.84\n",
      "5 day VaR @ 95% confidence: 67358.02\n",
      "6 day VaR @ 95% confidence: 73787.01\n",
      "7 day VaR @ 95% confidence: 79699.08\n",
      "8 day VaR @ 95% confidence: 85201.9\n",
      "9 day VaR @ 95% confidence: 90370.26\n",
      "10 day VaR @ 95% confidence: 95258.62\n",
      "11 day VaR @ 95% confidence: 99908.08\n",
      "12 day VaR @ 95% confidence: 104350.59\n",
      "13 day VaR @ 95% confidence: 108611.54\n",
      "14 day VaR @ 95% confidence: 112711.52\n",
      "15 day VaR @ 95% confidence: 116667.51\n",
      "16 day VaR @ 95% confidence: 120493.68\n",
      "17 day VaR @ 95% confidence: 124202.05\n",
      "18 day VaR @ 95% confidence: 127802.85\n",
      "19 day VaR @ 95% confidence: 131304.95\n",
      "20 day VaR @ 95% confidence: 134716.03\n",
      "21 day VaR @ 95% confidence: 138042.86\n",
      "22 day VaR @ 95% confidence: 141291.37\n",
      "23 day VaR @ 95% confidence: 144466.85\n",
      "24 day VaR @ 95% confidence: 147574.02\n",
      "25 day VaR @ 95% confidence: 150617.1\n",
      "26 day VaR @ 95% confidence: 153599.91\n",
      "27 day VaR @ 95% confidence: 156525.89\n",
      "28 day VaR @ 95% confidence: 159398.16\n",
      "29 day VaR @ 95% confidence: 162219.59\n",
      "30 day VaR @ 95% confidence: 164992.77\n"
     ]
    }
   ],
   "source": [
    "#Calculate n Day VaR\n",
    "num_days = 30\n",
    "for x in range(1, num_days + 1):    \n",
    "    print(str(x) + \" day VaR @ 95% confidence: \" + str(np.round(var_1d1 * np.sqrt(x),2)))"
   ]
  }
 ],
 "metadata": {
  "kernelspec": {
   "display_name": "Python 3",
   "language": "python",
   "name": "python3"
  },
  "language_info": {
   "codemirror_mode": {
    "name": "ipython",
    "version": 3
   },
   "file_extension": ".py",
   "mimetype": "text/x-python",
   "name": "python",
   "nbconvert_exporter": "python",
   "pygments_lexer": "ipython3",
   "version": "3.7.7"
  }
 },
 "nbformat": 4,
 "nbformat_minor": 4
}
