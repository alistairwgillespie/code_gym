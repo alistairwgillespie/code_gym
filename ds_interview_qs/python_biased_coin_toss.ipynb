{
 "cells": [
  {
   "cell_type": "markdown",
   "metadata": {},
   "source": [
    "# Biased Coin Toss"
   ]
  },
  {
   "cell_type": "markdown",
   "metadata": {},
   "source": [
    "Suppose you want to generate a sample of heads and tails from a fair coin. However, you only have a biased coin available (meaning the probability of coming up with heads is different than 1/2).\n",
    "\n",
    "Write a simulation in Python that will use your biased coin to generate a sample of heads/tails as if it were coming from a fair coin."
   ]
  },
  {
   "cell_type": "code",
   "execution_count": 114,
   "metadata": {},
   "outputs": [],
   "source": [
    "# First let's setup a biased coin\n",
    "def biased_coin():\n",
    "    return int(random.random() < 0.45)"
   ]
  },
  {
   "cell_type": "code",
   "execution_count": 115,
   "metadata": {},
   "outputs": [
    {
     "name": "stdout",
     "output_type": "stream",
     "text": [
      "45346\n"
     ]
    }
   ],
   "source": [
    "print(sum(biased_coin() for i in range(100000))) # This should come out at about 45,000"
   ]
  },
  {
   "cell_type": "code",
   "execution_count": 128,
   "metadata": {},
   "outputs": [],
   "source": [
    "# Attempt\n",
    "# Now let's tame the bias\n",
    "# heads=0, tails=1\n",
    "def tame_the_bias():\n",
    "    output = None\n",
    "    while True:\n",
    "        tosses = [biased_coin() for i in range(2)]\n",
    "        if tosses[0] !=  tosses[1]:\n",
    "            output = tosses[-1]\n",
    "            break\n",
    "    return output"
   ]
  },
  {
   "cell_type": "code",
   "execution_count": 129,
   "metadata": {},
   "outputs": [
    {
     "name": "stdout",
     "output_type": "stream",
     "text": [
      "50146\n"
     ]
    }
   ],
   "source": [
    "print(sum(tame_the_bias() for i in range(100000))) # It should come out at approximately 50,000"
   ]
  },
  {
   "cell_type": "code",
   "execution_count": 130,
   "metadata": {},
   "outputs": [],
   "source": [
    "# Answer\n",
    "def fair_coin(biased_coin):\n",
    "    coin1, coin2 = 0, 0\n",
    "    while coin1 == coin2:\n",
    "        coin1, coin2 = biased_coin(), biased_coin()\n",
    "    return coin1"
   ]
  },
  {
   "cell_type": "code",
   "execution_count": 131,
   "metadata": {},
   "outputs": [
    {
     "name": "stdout",
     "output_type": "stream",
     "text": [
      "50128\n"
     ]
    }
   ],
   "source": [
    "print(sum(fair_coin(biased_coin) for i in range(100000))) # It should come out at approximately 50,000"
   ]
  },
  {
   "cell_type": "markdown",
   "metadata": {},
   "source": [
    "### Explanation"
   ]
  },
  {
   "cell_type": "markdown",
   "metadata": {},
   "source": [
    "The way we simulate a fair coin with a biased coin is to toss two coins at a time. If both coins are heads or tails, toss again until the coins are either heads and tails or vice versa. This completes \"one\" toss.\n",
    "\n",
    "The probability of both being heads or both being tails may be skewed depending on the bias however the two probabilites of each coin being different(e.g. h/t or t/h) after two tosses is the same thus we can take the first or last toss on these occasions to simulate a single toss of a fair coin."
   ]
  },
  {
   "cell_type": "markdown",
   "metadata": {},
   "source": [
    "### Appendix - Playing around with the random library"
   ]
  },
  {
   "cell_type": "code",
   "execution_count": 160,
   "metadata": {},
   "outputs": [
    {
     "name": "stdout",
     "output_type": "stream",
     "text": [
      "[0, 0, 1, 0, 0, 0, 0, 0, 1, 0] [0, 0, 0, 0, 0, 0, 1, 0, 1, 1]\n"
     ]
    },
    {
     "ename": "AssertionError",
     "evalue": "",
     "output_type": "error",
     "traceback": [
      "\u001b[0;31m---------------------------------------------------------------------------\u001b[0m",
      "\u001b[0;31mAssertionError\u001b[0m                            Traceback (most recent call last)",
      "\u001b[0;32m<ipython-input-160-47aebe5c5ca6>\u001b[0m in \u001b[0;36m<module>\u001b[0;34m\u001b[0m\n\u001b[1;32m      9\u001b[0m \u001b[0mts_a\u001b[0m \u001b[0;34m=\u001b[0m \u001b[0;34m[\u001b[0m\u001b[0mtoss_coin_alt\u001b[0m\u001b[0;34m(\u001b[0m\u001b[0;34m)\u001b[0m \u001b[0;32mfor\u001b[0m \u001b[0m_\u001b[0m \u001b[0;32min\u001b[0m \u001b[0mrange\u001b[0m\u001b[0;34m(\u001b[0m\u001b[0;36m10\u001b[0m\u001b[0;34m)\u001b[0m\u001b[0;34m]\u001b[0m\u001b[0;34m\u001b[0m\u001b[0;34m\u001b[0m\u001b[0m\n\u001b[1;32m     10\u001b[0m \u001b[0mprint\u001b[0m\u001b[0;34m(\u001b[0m\u001b[0mts\u001b[0m\u001b[0;34m,\u001b[0m \u001b[0mts_a\u001b[0m\u001b[0;34m)\u001b[0m\u001b[0;34m\u001b[0m\u001b[0;34m\u001b[0m\u001b[0m\n\u001b[0;32m---> 11\u001b[0;31m \u001b[0;32massert\u001b[0m \u001b[0mts\u001b[0m \u001b[0;34m==\u001b[0m \u001b[0mts_a\u001b[0m\u001b[0;34m\u001b[0m\u001b[0;34m\u001b[0m\u001b[0m\n\u001b[0m",
      "\u001b[0;31mAssertionError\u001b[0m: "
     ]
    }
   ],
   "source": [
    "random.seed(42)\n",
    "def toss_coin_alt():\n",
    "    return random.randint(0,1)\n",
    "\n",
    "def toin_coss():\n",
    "    return random.choice([0, 1])\n",
    "\n",
    "ts = [toin_coss() for _ in range(10)]\n",
    "ts_a = [toss_coin_alt() for _ in range(10)]\n",
    "print(ts, ts_a)\n",
    "assert ts == ts_a"
   ]
  },
  {
   "cell_type": "markdown",
   "metadata": {},
   "source": [
    "randint and random.choice come up with different results"
   ]
  },
  {
   "cell_type": "code",
   "execution_count": 150,
   "metadata": {},
   "outputs": [],
   "source": [
    "??random.random "
   ]
  },
  {
   "cell_type": "code",
   "execution_count": 151,
   "metadata": {},
   "outputs": [
    {
     "data": {
      "text/plain": [
       "0.8094304566778266"
      ]
     },
     "execution_count": 151,
     "metadata": {},
     "output_type": "execute_result"
    }
   ],
   "source": [
    "random.random()"
   ]
  }
 ],
 "metadata": {
  "kernelspec": {
   "display_name": "Python (Fastai2)",
   "language": "python",
   "name": "fastai2"
  },
  "language_info": {
   "codemirror_mode": {
    "name": "ipython",
    "version": 3
   },
   "file_extension": ".py",
   "mimetype": "text/x-python",
   "name": "python",
   "nbconvert_exporter": "python",
   "pygments_lexer": "ipython3",
   "version": "3.8.5"
  }
 },
 "nbformat": 4,
 "nbformat_minor": 4
}
