{
 "cells": [
  {
   "cell_type": "markdown",
   "metadata": {},
   "source": [
    "# Finding the perimeter of a river"
   ]
  },
  {
   "cell_type": "markdown",
   "metadata": {},
   "source": [
    "Suppose you're given a matrix of 1s and 0s that represents a map of rivers. You can assume that the grid cells in your map are only connected horizontally and vertically (e.g. no diagonal connections). You can assume that 1 represents water (your river) and 0 represents land/your river bank. Each cell has a length of 1 and is square in your map. Given this, write code to determine the perimeter of your river."
   ]
  },
  {
   "cell_type": "markdown",
   "metadata": {},
   "source": [
    "```Examples:\n",
    "\n",
    "Input: [[1,0]] \n",
    "Output: 4\n",
    "\n",
    "Input: [[1,0,1],\n",
    "        [1,1,1]]\n",
    "    \n",
    "Output: 12\n",
    "```"
   ]
  },
  {
   "cell_type": "markdown",
   "metadata": {},
   "source": [
    "Solution will be written in Python for premium users."
   ]
  },
  {
   "cell_type": "code",
   "execution_count": 20,
   "metadata": {},
   "outputs": [
    {
     "data": {
      "text/plain": [
       "8"
      ]
     },
     "execution_count": 20,
     "metadata": {},
     "output_type": "execute_result"
    }
   ],
   "source": [
    "# River of perimeter 6\n",
    "m = [[1,0],\n",
    "     [0,1]]\n",
    "\n",
    "def calculate_perimeter(m):\n",
    "    perimeter = 0\n",
    "    for i in range(len(m)):\n",
    "        for j in range(len(m[i])):\n",
    "            if m[i][j] == 1:\n",
    "                # If first column or 0 is to the left\n",
    "                if j == 0 or m[i][j-1] == 0:\n",
    "                    perimeter += 1\n",
    "                # If first row or 0 is above\n",
    "                if i == 0  or m[i-1][j] == 0:\n",
    "                    perimeter += 1\n",
    "                # If to the right is 0\n",
    "                if j == len(m[i])-1 or m[i][j+1] == 0:\n",
    "                    perimeter += 1\n",
    "                # If last row or 0 is below\n",
    "                if i == len(m)-1 or m[i+1][j] == 0:\n",
    "                    perimeter += 1\n",
    "    return perimeter\n",
    "\n",
    "calculate_perimeter(m)"
   ]
  },
  {
   "cell_type": "markdown",
   "metadata": {},
   "source": [
    "Note: Consider condition order in if statements. For example, switching the third and fourth if statement conditions, you will get out of index error."
   ]
  },
  {
   "cell_type": "code",
   "execution_count": 14,
   "metadata": {},
   "outputs": [],
   "source": [
    "m = [[1,0]]\n",
    "result = calculate_perimeter(m)\n",
    "assert result == 4, f'TEST 1: Should be 4, but was {result}'\n",
    "\n",
    "m = [[1,0,1],\n",
    "     [1,1,1]]\n",
    "result = calculate_perimeter(m)\n",
    "assert result == 12, f'TEST 2: Should be 12, but was {result}'\n",
    "\n",
    "m = [[1,0]]\n",
    "result = calculate_perimeter(m)\n",
    "assert result == 4, f'TEST 3: Should be 4, but was {result}'"
   ]
  },
  {
   "cell_type": "code",
   "execution_count": null,
   "metadata": {},
   "outputs": [],
   "source": []
  }
 ],
 "metadata": {
  "kernelspec": {
   "display_name": "Python 3",
   "language": "python",
   "name": "python3"
  },
  "language_info": {
   "codemirror_mode": {
    "name": "ipython",
    "version": 3
   },
   "file_extension": ".py",
   "mimetype": "text/x-python",
   "name": "python",
   "nbconvert_exporter": "python",
   "pygments_lexer": "ipython3",
   "version": "3.7.4"
  }
 },
 "nbformat": 4,
 "nbformat_minor": 2
}
