{
 "cells": [
  {
   "cell_type": "markdown",
   "metadata": {},
   "source": [
    "# Telephone Digits to Letters "
   ]
  },
  {
   "cell_type": "markdown",
   "metadata": {},
   "source": [
    "### tags: data structures, python"
   ]
  },
  {
   "cell_type": "markdown",
   "metadata": {},
   "source": [
    "Suppose you're given a portion of a phone number. Each digit corresponds to letters (as shown below). Using python, write code to return all possible combinations the given number could represent.\n",
    "\n",
    "Telephone digits, for reference:"
   ]
  },
  {
   "cell_type": "markdown",
   "metadata": {},
   "source": [
    "<img src=\"https://www.interviewqs.com/telephone_digits.png\">"
   ]
  },
  {
   "cell_type": "markdown",
   "metadata": {},
   "source": [
    "For example:\n",
    "\n",
    "Input: \"24\"\n",
    "\n",
    "Output: \n",
    "\n",
    "['a', 'g']\n",
    "\n",
    "['a', 'h']\n",
    "\n",
    "['a', 'i']\n",
    "\n",
    "['b', 'g']\n",
    "\n",
    "['b', 'h']\n",
    "\n",
    "['b', 'i']\n",
    "\n",
    "['c', 'g']\n",
    "\n",
    "['c', 'h']\n",
    "\n",
    "['c', 'i']"
   ]
  },
  {
   "cell_type": "code",
   "execution_count": null,
   "metadata": {},
   "outputs": [],
   "source": [
    "# Answer - geeksforgeeks/Data Interview Questions\n",
    "input_num = '24'\n",
    "\n",
    "# Step 1. Create hash table to represent number pad\n",
    "tele_hash = ['', '', 'ABC', 'DEF', 'GHI', 'JKL', 'MNO', 'PQRS', 'TUV', 'WXYZ']\n",
    "\n",
    "def num_to_letters(output, num_array, curr_ix, n_len):\n",
    "    \n",
    "    # Print combo if combo is same length as length of input\n",
    "    if (curr_ix == n_len):\n",
    "        print(output)\n",
    "        return\n",
    "    \n",
    "    # Recurse through combos\n",
    "    for i in range(len(tele_hash[num_array[curr_ix]])):\n",
    "        output.append(tele_hash[num_array[curr_ix]][i])\n",
    "        num_to_letters(output, num_array, curr_ix + 1, n_len)\n",
    "        output.pop() \n",
    "        \n",
    "        # Don't worry about 0 and 1\n",
    "        if (num_array[curr_ix] == 0 or num_array[curr_ix] == 1):\n",
    "            return;\n",
    "\n",
    "# Wrapper function\n",
    "def num_combos(num_array, n):\n",
    "    num_to_letters([], num_array, 0, n)\n",
    "            \n",
    "if __name__ == '__main__':\n",
    "    input_num = input('Enter number:')\n",
    "    num_array = [int(i) for i in input_num]\n",
    "    n_len = len(num_array)\n",
    "    num_combos(num_array, n_len)"
   ]
  },
  {
   "cell_type": "code",
   "execution_count": null,
   "metadata": {},
   "outputs": [],
   "source": []
  }
 ],
 "metadata": {
  "kernelspec": {
   "display_name": "Python (Fastai2)",
   "language": "python",
   "name": "fastai2"
  },
  "language_info": {
   "codemirror_mode": {
    "name": "ipython",
    "version": 3
   },
   "file_extension": ".py",
   "mimetype": "text/x-python",
   "name": "python",
   "nbconvert_exporter": "python",
   "pygments_lexer": "ipython3",
   "version": "3.8.5"
  }
 },
 "nbformat": 4,
 "nbformat_minor": 4
}
