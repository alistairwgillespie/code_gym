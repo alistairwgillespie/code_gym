{
 "cells": [
  {
   "cell_type": "markdown",
   "metadata": {},
   "source": [
    "# Best Selling Products"
   ]
  },
  {
   "cell_type": "markdown",
   "metadata": {},
   "source": [
    "#### Tags: SQL, Database Querying, Rank Function, Window Function"
   ]
  },
  {
   "cell_type": "markdown",
   "metadata": {},
   "source": [
    "You’re trying to identify the top selling products in Q4 2017 by region, and you have 2 tables that you can query:"
   ]
  },
  {
   "cell_type": "markdown",
   "metadata": {},
   "source": [
    "All Products Table:\n",
    "\n",
    "|Column Name|Data Type|Description|\n",
    "|--- |--- |--- |\n",
    "|product_id|integer|id of the product|\n",
    "|product_name|string|name of the product|\n",
    "|sku|integer|universal stock keeping unit number|\n",
    "|distributor_id|integer|id for distributor|"
   ]
  },
  {
   "cell_type": "markdown",
   "metadata": {},
   "source": [
    "Orders Table:\n",
    "    \n",
    "|Column Name|Data Type|Description|\n",
    "|--- |--- |--- |\n",
    "|date|string|format is \"YYYY-MM-DD\"|\n",
    "|user_id|integer|id of purchaser|\n",
    "|order_id|integer|id of order number|\n",
    "|product_id|integer|id of product|\n",
    "|no_units|integer|number of units sold in the order|\n",
    "|price|integer|price per item|\n",
    "|shipping_id|integer|id of shipment|\n",
    "|region|string|region being shipped to|"
   ]
  },
  {
   "cell_type": "markdown",
   "metadata": {},
   "source": [
    "**Write a SQL query to find the top 5 selling products (in terms of total units sold) by region in Q4 of 2017.**"
   ]
  },
  {
   "cell_type": "code",
   "execution_count": 7,
   "metadata": {},
   "outputs": [],
   "source": [
    "# Attempt"
   ]
  },
  {
   "cell_type": "markdown",
   "metadata": {},
   "source": [
    "``` sql\n",
    "SELECT o.region, o.distributor, o.product_id, a.product_name, rank\n",
    "FROM all_products as a\n",
    "JOIN (SELECT region, product_id, total_sold\n",
    "          RANK() OVER (\n",
    "                PARTITION BY region\n",
    "                ORDER BY total_sold DESC) Rank\n",
    "      FROM (SELECT  region, product_id, sum(no_units) as total_sold\n",
    "            FROM orders\n",
    "            WHERE date BETWEEN '01-10-2017' AND '31-12-2017'\n",
    "            GROUP BY region, product_id\n",
    "            ORDER BY total_sold DESC)) as o\n",
    "ON a.product_id=p.product_id\n",
    "```"
   ]
  },
  {
   "cell_type": "code",
   "execution_count": 8,
   "metadata": {},
   "outputs": [],
   "source": [
    "# Answer"
   ]
  },
  {
   "cell_type": "markdown",
   "metadata": {},
   "source": [
    "``` sql\n",
    "SELECT AP.distributor,\n",
    "       AP.product_id,\n",
    "       AP.product_name,\n",
    "       O.region,\n",
    "       O.rank_no,\n",
    "       O.total_sold\n",
    "FROM all_products as AP\n",
    "JOIN (SELECT region,\n",
    "             product_id,\n",
    "             total_sold,\n",
    "             RANK() OVER (\n",
    "                 PARTITION BY region\n",
    "                 ORDER BY total_sold DESC\n",
    "             ) as rank_no\n",
    "      FROM (\n",
    "          SELECT region,\n",
    "                 product_id,\n",
    "                 SUM(no_units) as total_sold\n",
    "          FROM orders\n",
    "          WHERE date >= '2017-10-01' \n",
    "                AND date <= '2017-12-31'\n",
    "          GROUP BY region,\n",
    "                 product_id\n",
    "          )\n",
    "      WHERE rank_no <= 5\n",
    "      ) as O\n",
    "ON AP.product_id=o.product_id\n",
    "\n",
    "```"
   ]
  }
 ],
 "metadata": {
  "kernelspec": {
   "display_name": "Python 3",
   "language": "python",
   "name": "python3"
  },
  "language_info": {
   "codemirror_mode": {
    "name": "ipython",
    "version": 3
   },
   "file_extension": ".py",
   "mimetype": "text/x-python",
   "name": "python",
   "nbconvert_exporter": "python",
   "pygments_lexer": "ipython3",
   "version": "3.7.6"
  }
 },
 "nbformat": 4,
 "nbformat_minor": 4
}
