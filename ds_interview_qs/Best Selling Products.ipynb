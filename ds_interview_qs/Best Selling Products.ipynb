{
 "cells": [
  {
   "cell_type": "markdown",
   "metadata": {},
   "source": [
    "# Best Selling Products"
   ]
  },
  {
   "cell_type": "markdown",
   "metadata": {},
   "source": [
    "#### Tags: SQL, Database Querying, Rank Function, Window Function"
   ]
  },
  {
   "cell_type": "markdown",
   "metadata": {},
   "source": [
    "``` sql\n",
    "SELECT o.region, o.distributor, o.product_id, a.product_name, rank\n",
    "FROM all_products as a\n",
    "JOIN (SELECT region, product_id, total_sold\n",
    "          RANK() OVER (\n",
    "                PARTITION BY region\n",
    "                ORDER BY total_sold DESC) Rank\n",
    "      FROM (SELECT  region, product_id, sum(no_units) as total_sold\n",
    "            FROM orders\n",
    "            WHERE date BETWEEN '01-10-2017' AND '31-12-2017'\n",
    "            GROUP BY region, product_id\n",
    "            ORDER BY total_sold DESC)) as o\n",
    "ON a.product_id=p.product_id\n",
    "```"
   ]
  },
  {
   "cell_type": "code",
   "execution_count": null,
   "metadata": {},
   "outputs": [],
   "source": []
  }
 ],
 "metadata": {
  "kernelspec": {
   "display_name": "Python 3",
   "language": "python",
   "name": "python3"
  },
  "language_info": {
   "codemirror_mode": {
    "name": "ipython",
    "version": 3
   },
   "file_extension": ".py",
   "mimetype": "text/x-python",
   "name": "python",
   "nbconvert_exporter": "python",
   "pygments_lexer": "ipython3",
   "version": "3.7.6"
  }
 },
 "nbformat": 4,
 "nbformat_minor": 4
}
