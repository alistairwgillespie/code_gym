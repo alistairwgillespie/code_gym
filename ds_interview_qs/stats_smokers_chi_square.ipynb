{
 "cells": [
  {
   "cell_type": "markdown",
   "metadata": {},
   "source": [
    "# Relationship between fitness and smoking"
   ]
  },
  {
   "cell_type": "markdown",
   "metadata": {},
   "source": [
    "Given the data table below, determine if there is a relationship between fitness level and smoking habits:"
   ]
  },
  {
   "cell_type": "markdown",
   "metadata": {},
   "source": [
    "||Low fitness level|Medium-low fitness level|Medium-high fitness level|High fitness level|\n",
    "|--- |--- |--- |--- |--- |\n",
    "|Never smoked|113|113|110|159|\n",
    "|Former smokers|119|135|172|190|\n",
    "|1 to 9 cigarettes daily|77|91|86|65|\n",
    "|>=10 cigarettes daily|181|152|124|73|"
   ]
  },
  {
   "cell_type": "markdown",
   "metadata": {},
   "source": [
    "You don't have to fully solve for the number here (that would be pretty time-intensive for an interview setting), but lay out the steps you would take to solve such a problem."
   ]
  },
  {
   "cell_type": "markdown",
   "metadata": {},
   "source": [
    "Null hypothesis: Is that fitness level does not determine smoking habits\n",
    "\n",
    "Alternative hypothesis: Fitness level does determine smoking habits"
   ]
  },
  {
   "cell_type": "code",
   "execution_count": 2,
   "metadata": {},
   "outputs": [],
   "source": [
    "import pandas as pd\n",
    "from scipy import stats"
   ]
  },
  {
   "cell_type": "code",
   "execution_count": 3,
   "metadata": {},
   "outputs": [],
   "source": [
    "data = {\n",
    "    'Never smoked': [113, 113, 110, 159], \n",
    "    'Former smokers': [119, 135, 172, 190],\n",
    "    '1 to 9 cigrarettes daily': [77, 91, 86, 65], \n",
    "    '>=10 cigarettes daily': [181, 152, 124, 73]\n",
    "}"
   ]
  },
  {
   "cell_type": "code",
   "execution_count": 4,
   "metadata": {},
   "outputs": [],
   "source": [
    "columns = ['Low fitness level', 'Medium-low fitness level', 'Medium-high fitness level', 'High fitness level']"
   ]
  },
  {
   "cell_type": "code",
   "execution_count": 5,
   "metadata": {},
   "outputs": [],
   "source": [
    "fitness_smoking_dict = pd.DataFrame.from_dict(data, orient='index', columns=columns)"
   ]
  },
  {
   "cell_type": "code",
   "execution_count": 6,
   "metadata": {},
   "outputs": [
    {
     "data": {
      "text/html": [
       "<div>\n",
       "<style scoped>\n",
       "    .dataframe tbody tr th:only-of-type {\n",
       "        vertical-align: middle;\n",
       "    }\n",
       "\n",
       "    .dataframe tbody tr th {\n",
       "        vertical-align: top;\n",
       "    }\n",
       "\n",
       "    .dataframe thead th {\n",
       "        text-align: right;\n",
       "    }\n",
       "</style>\n",
       "<table border=\"1\" class=\"dataframe\">\n",
       "  <thead>\n",
       "    <tr style=\"text-align: right;\">\n",
       "      <th></th>\n",
       "      <th>Low fitness level</th>\n",
       "      <th>Medium-low fitness level</th>\n",
       "      <th>Medium-high fitness level</th>\n",
       "      <th>High fitness level</th>\n",
       "    </tr>\n",
       "  </thead>\n",
       "  <tbody>\n",
       "    <tr>\n",
       "      <td>Never smoked</td>\n",
       "      <td>113</td>\n",
       "      <td>113</td>\n",
       "      <td>110</td>\n",
       "      <td>159</td>\n",
       "    </tr>\n",
       "    <tr>\n",
       "      <td>Former smokers</td>\n",
       "      <td>119</td>\n",
       "      <td>135</td>\n",
       "      <td>172</td>\n",
       "      <td>190</td>\n",
       "    </tr>\n",
       "    <tr>\n",
       "      <td>1 to 9 cigrarettes daily</td>\n",
       "      <td>77</td>\n",
       "      <td>91</td>\n",
       "      <td>86</td>\n",
       "      <td>65</td>\n",
       "    </tr>\n",
       "    <tr>\n",
       "      <td>&gt;=10 cigarettes daily</td>\n",
       "      <td>181</td>\n",
       "      <td>152</td>\n",
       "      <td>124</td>\n",
       "      <td>73</td>\n",
       "    </tr>\n",
       "  </tbody>\n",
       "</table>\n",
       "</div>"
      ],
      "text/plain": [
       "                          Low fitness level  Medium-low fitness level  \\\n",
       "Never smoked                            113                       113   \n",
       "Former smokers                          119                       135   \n",
       "1 to 9 cigrarettes daily                 77                        91   \n",
       ">=10 cigarettes daily                   181                       152   \n",
       "\n",
       "                          Medium-high fitness level  High fitness level  \n",
       "Never smoked                                    110                 159  \n",
       "Former smokers                                  172                 190  \n",
       "1 to 9 cigrarettes daily                         86                  65  \n",
       ">=10 cigarettes daily                           124                  73  "
      ]
     },
     "execution_count": 6,
     "metadata": {},
     "output_type": "execute_result"
    }
   ],
   "source": [
    "fitness_smoking_dict"
   ]
  },
  {
   "cell_type": "code",
   "execution_count": 14,
   "metadata": {},
   "outputs": [],
   "source": [
    "stats.chi2_contingency??"
   ]
  },
  {
   "cell_type": "code",
   "execution_count": 10,
   "metadata": {},
   "outputs": [
    {
     "data": {
      "text/plain": [
       "(87.27274636300587,\n",
       " 5.7306646048374425e-15,\n",
       " 9,\n",
       " array([[123.75      , 124.00255102, 124.25510204, 122.99234694],\n",
       "        [154.        , 154.31428571, 154.62857143, 153.05714286],\n",
       "        [ 79.75      ,  79.9127551 ,  80.0755102 ,  79.26173469],\n",
       "        [132.5       , 132.77040816, 133.04081633, 131.68877551]]))"
      ]
     },
     "execution_count": 10,
     "metadata": {},
     "output_type": "execute_result"
    }
   ],
   "source": [
    "stats.chi2_contingency(fitness_smoking_dict)"
   ]
  },
  {
   "cell_type": "markdown",
   "metadata": {},
   "source": [
    "Since all of the expected values in the output array are more than 5, coupled with a p-value of much less than 0.05, we can confidently reject the null hypothesis and conclude that fitness level is often correlated with smoking habits."
   ]
  },
  {
   "cell_type": "code",
   "execution_count": null,
   "metadata": {},
   "outputs": [],
   "source": []
  }
 ],
 "metadata": {
  "kernelspec": {
   "display_name": "Python 3",
   "language": "python",
   "name": "python3"
  },
  "language_info": {
   "codemirror_mode": {
    "name": "ipython",
    "version": 3
   },
   "file_extension": ".py",
   "mimetype": "text/x-python",
   "name": "python",
   "nbconvert_exporter": "python",
   "pygments_lexer": "ipython3",
   "version": "3.7.4"
  }
 },
 "nbformat": 4,
 "nbformat_minor": 2
}
