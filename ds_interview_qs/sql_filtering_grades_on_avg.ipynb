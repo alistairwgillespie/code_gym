{
 "cells": [
  {
   "cell_type": "markdown",
   "metadata": {},
   "source": [
    "# Filtering grades based on city avg, in SQL \n",
    "## SQL Database Querying Having Function\n"
   ]
  },
  {
   "cell_type": "markdown",
   "metadata": {},
   "source": [
    "Given the following table, called 'students', write a SQL query to count the # of students with grades above the Detroit average."
   ]
  },
  {
   "cell_type": "markdown",
   "metadata": {},
   "source": [
    "| id | age | city     | grade | name           |\n",
    "|----|-----|----------|-------|----------------|\n",
    "| 0  | 20  | Detroit  | 88    | Willard Morris |\n",
    "| 1  | 19  | Detroit  | 95    | Al Jennings    |\n",
    "| 2  | 22  | New York | 92    | Omar Mullins   |\n",
    "| 3  | 21  | San Francisco | 70    | Spencer McDaniel   |"
   ]
  },
  {
   "cell_type": "code",
   "execution_count": 3,
   "metadata": {},
   "outputs": [],
   "source": [
    "import sqlite3\n",
    "conn = sqlite3.connect('students.db')"
   ]
  },
  {
   "cell_type": "code",
   "execution_count": 9,
   "metadata": {},
   "outputs": [
    {
     "name": "stdout",
     "output_type": "stream",
     "text": [
      "Table dropped... \n"
     ]
    }
   ],
   "source": [
    "#Connecting to sqlite\n",
    "conn = sqlite3.connect('students.db')\n",
    "\n",
    "#Creating a cursor object using the cursor() method\n",
    "cursor = conn.cursor()\n",
    "\n",
    "#Doping EMPLOYEE table if already exists\n",
    "cursor.execute(\"DROP TABLE IF EXISTS students\")\n",
    "print(\"Table dropped... \")\n",
    "\n",
    "#Commit your changes in the database\n",
    "conn.commit()\n",
    "\n",
    "#Closing the connection\n",
    "conn.close()"
   ]
  },
  {
   "cell_type": "code",
   "execution_count": 12,
   "metadata": {},
   "outputs": [],
   "source": [
    "transaction_table = \"\"\"CREATE TABLE IF NOT EXISTS students (\n",
    "                        student_id INTEGER NOT NULL, \n",
    "                        age INTEGER NOT NULL, \n",
    "                        city INTEGER NOT NULL, \n",
    "                        grade INTEGER NOT NULL, \n",
    "                        name TEXT NOT NULL\n",
    "                    );\"\"\""
   ]
  },
  {
   "cell_type": "code",
   "execution_count": 13,
   "metadata": {},
   "outputs": [],
   "source": [
    "#Connecting to sqlite\n",
    "conn = sqlite3.connect('students.db')\n",
    "\n",
    "c = conn.cursor()\n",
    "\n",
    "if conn is not None:\n",
    "    # Create table\n",
    "    c.execute(transaction_table)\n",
    "    \n",
    "# Save (commit) the changes\n",
    "conn.commit()\n",
    "\n",
    "# We can also close the connection if we are done with it.\n",
    "# Just be sure any changes have been committed or they will be lost.\n",
    "conn.close()"
   ]
  },
  {
   "cell_type": "code",
   "execution_count": 14,
   "metadata": {},
   "outputs": [],
   "source": [
    "transactions_to_enter = [(0, 20, 'Detroit', 88, 'Willard Morris'),\n",
    "                         (1, 19, 'Detroit', 95, 'Al Jennings'),\n",
    "                         (2, 22, 'New York', 92, 'Omar Mullins'),\n",
    "                         (3, 21, 'San Francisco', 70, 'Spencer McDaniel')]"
   ]
  },
  {
   "cell_type": "code",
   "execution_count": 15,
   "metadata": {},
   "outputs": [
    {
     "name": "stdout",
     "output_type": "stream",
     "text": [
      "Total 4 Records inserted successfully into hotel_transactions table\n"
     ]
    }
   ],
   "source": [
    "conn = sqlite3.connect('students.db')\n",
    "c = conn.cursor()\n",
    "insert_query = \"\"\"INSERT INTO students\n",
    "                            (student_id, age, city, grade, name) \n",
    "                         VALUES (?, ?, ?, ?, ?);\"\"\"\n",
    "\n",
    "c.executemany(insert_query, transactions_to_enter)\n",
    "conn.commit()\n",
    "print(\"Total\", c.rowcount, \"Records inserted successfully into hotel_transactions table\")\n",
    "conn.commit()\n",
    "conn.close()"
   ]
  },
  {
   "cell_type": "code",
   "execution_count": 32,
   "metadata": {},
   "outputs": [],
   "source": [
    "select_query = \"\"\"\n",
    "              SELECT COUNT(*)\n",
    "              FROM students\n",
    "              WHERE grade > (SELECT AVG(grade)\n",
    "                              FROM students\n",
    "                              WHERE city = 'Detroit')\n",
    "              \"\"\""
   ]
  },
  {
   "cell_type": "code",
   "execution_count": 34,
   "metadata": {},
   "outputs": [
    {
     "name": "stdout",
     "output_type": "stream",
     "text": [
      "Number of folks with grades high than the Detroit Average\n",
      "(2,)\n"
     ]
    }
   ],
   "source": [
    "conn = sqlite3.connect('students.db')\n",
    "c = conn.cursor()\n",
    "print(\"Number of folks with grades high than the Detroit Average\")\n",
    "for row in c.execute(select_query):\n",
    "        print(row)\n",
    "conn.commit()\n",
    "conn.close()"
   ]
  },
  {
   "cell_type": "code",
   "execution_count": 35,
   "metadata": {},
   "outputs": [],
   "source": [
    "select_query = \"\"\"\n",
    "              SELECT grade, COUNT(*)\n",
    "              FROM students\n",
    "              GROUP BY grade\n",
    "              HAVING grade > (SELECT AVG(grade)\n",
    "                              FROM students\n",
    "                              WHERE city = 'Detroit')\n",
    "              \"\"\""
   ]
  },
  {
   "cell_type": "code",
   "execution_count": 36,
   "metadata": {},
   "outputs": [
    {
     "name": "stdout",
     "output_type": "stream",
     "text": [
      "Number of folks with grades high than the Detroit Average\n",
      "(92, 1)\n",
      "(95, 1)\n"
     ]
    }
   ],
   "source": [
    "conn = sqlite3.connect('students.db')\n",
    "c = conn.cursor()\n",
    "print(\"ANSWER: Number of folks with grades high than the Detroit Average\")\n",
    "for row in c.execute(select_query):\n",
    "        print(row)\n",
    "conn.commit()\n",
    "conn.close()"
   ]
  },
  {
   "cell_type": "markdown",
   "metadata": {},
   "source": [
    "The question should be reworded to either state that each student should be returned (for the having case), or a count (for the where case)."
   ]
  },
  {
   "cell_type": "code",
   "execution_count": null,
   "metadata": {},
   "outputs": [],
   "source": []
  }
 ],
 "metadata": {
  "kernelspec": {
   "display_name": "Python 3",
   "language": "python",
   "name": "python3"
  },
  "language_info": {
   "codemirror_mode": {
    "name": "ipython",
    "version": 3
   },
   "file_extension": ".py",
   "mimetype": "text/x-python",
   "name": "python",
   "nbconvert_exporter": "python",
   "pygments_lexer": "ipython3",
   "version": "3.7.4"
  }
 },
 "nbformat": 4,
 "nbformat_minor": 2
}
