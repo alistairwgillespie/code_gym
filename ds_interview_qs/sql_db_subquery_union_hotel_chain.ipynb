{
 "cells": [
  {
   "cell_type": "markdown",
   "metadata": {},
   "source": [
    "# A hotel chain's loyal customers"
   ]
  },
  {
   "cell_type": "markdown",
   "metadata": {},
   "source": [
    "Tags: SQL, Database Querying, Subquery, Union"
   ]
  },
  {
   "cell_type": "markdown",
   "metadata": {},
   "source": [
    "Suppose you're an analyst for a major US hotel chain which has locations all over the US. Your marketing team is planning a promotion focused around loyal customers, and they are trying to forecast how much revenue the promotion will bring in. However, they need help from you to understand how much revenue comes from \"loyal\" customers to plug into their model.\n",
    "\n",
    "A \"loyal\" customer is defined as (1) having a membership with your company's point system, (2) having >2 stays at each hotel the customer visited, (3) having stayed at 3 different locations throughout the US.\n",
    "\n",
    "You have a table showing all transactions made in 2017. The schema of the table is below:"
   ]
  },
  {
   "cell_type": "markdown",
   "metadata": {},
   "source": [
    "|Column Name|Data Type|Description|\n",
    "|--- |--- |--- |\n",
    "|customer_id|id|id of the customer|\n",
    "|hotel_id|integer|unique id for hotel|\n",
    "|transaction_id|integer|id of the given transaction|\n",
    "|first_night|string|first night of the stay, column format is \"YYYY-mm-dd\"|\n",
    "|number_of_nights|integer|# of nights the customer stayed in hotel|\n",
    "|total_spend|integer|total spend for transaction, in USD|\n",
    "|is_member|boolean|indicates if the customer is a member of our points system|\n"
   ]
  },
  {
   "cell_type": "code",
   "execution_count": 2,
   "metadata": {},
   "outputs": [],
   "source": [
    "import sqlite3\n",
    "conn = sqlite3.connect('hotel.db')"
   ]
  },
  {
   "cell_type": "code",
   "execution_count": 42,
   "metadata": {},
   "outputs": [
    {
     "name": "stdout",
     "output_type": "stream",
     "text": [
      "Table dropped... \n"
     ]
    }
   ],
   "source": [
    "#Connecting to sqlite\n",
    "conn = sqlite3.connect('hotel.db')\n",
    "\n",
    "#Creating a cursor object using the cursor() method\n",
    "cursor = conn.cursor()\n",
    "\n",
    "#Doping EMPLOYEE table if already exists\n",
    "cursor.execute(\"DROP TABLE hotel_transactions\")\n",
    "print(\"Table dropped... \")\n",
    "\n",
    "#Commit your changes in the database\n",
    "conn.commit()\n",
    "\n",
    "#Closing the connection\n",
    "conn.close()"
   ]
  },
  {
   "cell_type": "code",
   "execution_count": 44,
   "metadata": {},
   "outputs": [],
   "source": [
    "transaction_table = \"\"\"CREATE TABLE IF NOT EXISTS hotel_transactions (\n",
    "                        customer_id INTEGER NOT NULL, \n",
    "                        hotel_id INTEGER NOT NULL, \n",
    "                        transaction_id INTEGER NOT NULL, \n",
    "                        first_night TEXT NOT NULL, \n",
    "                        number_of_nights INTEGER NOT NULL, \n",
    "                        total_spend INTEGER NOT NULL, \n",
    "                        is_member INTEGER NOT NULL\n",
    "                    );\"\"\""
   ]
  },
  {
   "cell_type": "code",
   "execution_count": 45,
   "metadata": {},
   "outputs": [],
   "source": [
    "#Connecting to sqlite\n",
    "conn = sqlite3.connect('hotel.db')\n",
    "\n",
    "c = conn.cursor()\n",
    "\n",
    "if conn is not None:\n",
    "    # Create table\n",
    "    c.execute(transaction_table)\n",
    "    \n",
    "# Save (commit) the changes\n",
    "conn.commit()\n",
    "\n",
    "# We can also close the connection if we are done with it.\n",
    "# Just be sure any changes have been committed or they will be lost.\n",
    "conn.close()"
   ]
  },
  {
   "cell_type": "code",
   "execution_count": 46,
   "metadata": {},
   "outputs": [],
   "source": [
    "transactions_to_enter = [(1, 1, 1, '2017-01-14', 5, 1000, 1),\n",
    "                         (1, 2, 1, '2017-03-14', 2, 400, 1),\n",
    "                         (1, 3, 1, '2017-04-14', 4, 800, 1),\n",
    "                         (1, 3, 1, '2017-05-14', 3, 600, 1),\n",
    "                         (2, 1, 1, '2017-01-1', 1, 200, 1),\n",
    "                         (2, 2, 1, '2017-03-2', 2, 400, 1),\n",
    "                         (2, 3, 1, '2017-04-10', 4, 800, 1),\n",
    "                         (3, 1, 1, '2017-07-1', 1, 200, 0),\n",
    "                         (3, 2, 1, '2017-09-2', 2, 400, 0),\n",
    "                         (3, 3, 1, '2017-10-10', 4, 800, 0)]"
   ]
  },
  {
   "cell_type": "code",
   "execution_count": 48,
   "metadata": {},
   "outputs": [
    {
     "name": "stdout",
     "output_type": "stream",
     "text": [
      "Total 10 Records inserted successfully into hotel_transactions table\n"
     ]
    }
   ],
   "source": [
    "conn = sqlite3.connect('hotel.db')\n",
    "c = conn.cursor()\n",
    "insert_query = \"\"\"INSERT INTO hotel_transactions\n",
    "                            (customer_id, hotel_id, transaction_id, first_night, number_of_nights, total_spend, is_member) \n",
    "                         VALUES (?, ?, ?, ?, ?, ?, ?);\"\"\"\n",
    "\n",
    "c.executemany(insert_query, transactions_to_enter)\n",
    "conn.commit()\n",
    "print(\"Total\", c.rowcount, \"Records inserted successfully into hotel_transactions table\")\n",
    "conn.commit()\n",
    "conn.close()"
   ]
  },
  {
   "cell_type": "code",
   "execution_count": null,
   "metadata": {},
   "outputs": [],
   "source": []
  }
 ],
 "metadata": {
  "kernelspec": {
   "display_name": "Python 3",
   "language": "python",
   "name": "python3"
  },
  "language_info": {
   "codemirror_mode": {
    "name": "ipython",
    "version": 3
   },
   "file_extension": ".py",
   "mimetype": "text/x-python",
   "name": "python",
   "nbconvert_exporter": "python",
   "pygments_lexer": "ipython3",
   "version": "3.7.4"
  }
 },
 "nbformat": 4,
 "nbformat_minor": 4
}
