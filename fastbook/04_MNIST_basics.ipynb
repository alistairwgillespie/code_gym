{
 "cells": [
  {
   "cell_type": "markdown",
   "metadata": {},
   "source": [
    "# Under the Hood: Training a Digit Classifier"
   ]
  },
  {
   "cell_type": "code",
   "execution_count": 13,
   "metadata": {},
   "outputs": [],
   "source": [
    "from fastai.vision.all import *\n",
    "from fastbook import *\n",
    "matplotlib.rc('image', cmap='Greys')"
   ]
  },
  {
   "cell_type": "markdown",
   "metadata": {},
   "source": [
    "### Organising and accessing data via Path"
   ]
  },
  {
   "cell_type": "markdown",
   "metadata": {},
   "source": [
    "Download and untar data using fastai"
   ]
  },
  {
   "cell_type": "code",
   "execution_count": 3,
   "metadata": {},
   "outputs": [],
   "source": [
    "path = untar_data(URLs.MNIST_SAMPLE)"
   ]
  },
  {
   "cell_type": "markdown",
   "metadata": {},
   "source": [
    "Setup base path"
   ]
  },
  {
   "cell_type": "code",
   "execution_count": 4,
   "metadata": {},
   "outputs": [],
   "source": [
    "Path.BASE_PATH = path"
   ]
  },
  {
   "cell_type": "markdown",
   "metadata": {},
   "source": [
    "Leverage linux commands"
   ]
  },
  {
   "cell_type": "code",
   "execution_count": 5,
   "metadata": {},
   "outputs": [
    {
     "data": {
      "text/plain": [
       "[Path('valid'), Path('labels.csv'), Path('train')]"
      ]
     },
     "execution_count": 5,
     "metadata": {},
     "output_type": "execute_result"
    }
   ],
   "source": [
    "path.ls()"
   ]
  },
  {
   "cell_type": "code",
   "execution_count": 6,
   "metadata": {},
   "outputs": [
    {
     "data": {
      "text/plain": [
       "[Path('train/7'), Path('train/3')]"
      ]
     },
     "execution_count": 6,
     "metadata": {},
     "output_type": "execute_result"
    }
   ],
   "source": [
    "(path/'train').ls()"
   ]
  },
  {
   "cell_type": "code",
   "execution_count": 7,
   "metadata": {},
   "outputs": [],
   "source": [
    "threes = (path/'train'/'3').ls()\n",
    "sevens = (path/'train'/'7').ls()"
   ]
  },
  {
   "cell_type": "markdown",
   "metadata": {},
   "source": [
    "### Preparing Image data with Pillow"
   ]
  },
  {
   "cell_type": "markdown",
   "metadata": {},
   "source": [
    "How do we open up images?"
   ]
  },
  {
   "cell_type": "markdown",
   "metadata": {},
   "source": [
    "Open image using Pillow"
   ]
  },
  {
   "cell_type": "code",
   "execution_count": 8,
   "metadata": {},
   "outputs": [
    {
     "data": {
      "image/png": "[encoded data removed]",
      "text/plain": [
       "<PIL.PngImagePlugin.PngImageFile image mode=L size=28x28 at 0x7FCA83D1DF98>"
      ]
     },
     "execution_count": 8,
     "metadata": {},
     "output_type": "execute_result"
    }
   ],
   "source": [
    "im3_path = threes[1]\n",
    "im3 = Image.open(im3_path)\n",
    "im3"
   ]
  },
  {
   "cell_type": "markdown",
   "metadata": {},
   "source": [
    "How do we make the images usable to a model?"
   ]
  },
  {
   "cell_type": "code",
   "execution_count": 9,
   "metadata": {},
   "outputs": [],
   "source": [
    "img3_t = tensor(im3)[4:15, 4:22] # convert to tensor"
   ]
  },
  {
   "cell_type": "markdown",
   "metadata": {},
   "source": [
    "How do we visualise the images?"
   ]
  },
  {
   "cell_type": "code",
   "execution_count": 10,
   "metadata": {},
   "outputs": [
    {
     "data": {
      "text/html": [
       "<style  type=\"text/css\" >\n",
       "#T_b0d4a4c8_e4e1_11ea_84fa_f45c8991d159row0_col0,#T_b0d4a4c8_e4e1_11ea_84fa_f45c8991d159row0_col1,#T_b0d4a4c8_e4e1_11ea_84fa_f45c8991d159row0_col2,#T_b0d4a4c8_e4e1_11ea_84fa_f45c8991d159row0_col3,#T_b0d4a4c8_e4e1_11ea_84fa_f45c8991d159row0_col4,#T_b0d4a4c8_e4e1_11ea_84fa_f45c8991d159row0_col5,#T_b0d4a4c8_e4e1_11ea_84fa_f45c8991d159row0_col14,#T_b0d4a4c8_e4e1_11ea_84fa_f45c8991d159row0_col15,#T_b0d4a4c8_e4e1_11ea_84fa_f45c8991d159row0_col16,#T_b0d4a4c8_e4e1_11ea_84fa_f45c8991d159row0_col17,#T_b0d4a4c8_e4e1_11ea_84fa_f45c8991d159row1_col0,#T_b0d4a4c8_e4e1_11ea_84fa_f45c8991d159row1_col1,#T_b0d4a4c8_e4e1_11ea_84fa_f45c8991d159row1_col2,#T_b0d4a4c8_e4e1_11ea_84fa_f45c8991d159row1_col14,#T_b0d4a4c8_e4e1_11ea_84fa_f45c8991d159row1_col15,#T_b0d4a4c8_e4e1_11ea_84fa_f45c8991d159row1_col16,#T_b0d4a4c8_e4e1_11ea_84fa_f45c8991d159row1_col17,#T_b0d4a4c8_e4e1_11ea_84fa_f45c8991d159row2_col0,#T_b0d4a4c8_e4e1_11ea_84fa_f45c8991d159row2_col1,#T_b0d4a4c8_e4e1_11ea_84fa_f45c8991d159row2_col7,#T_b0d4a4c8_e4e1_11ea_84fa_f45c8991d159row2_col8,#T_b0d4a4c8_e4e1_11ea_84fa_f45c8991d159row2_col9,#T_b0d4a4c8_e4e1_11ea_84fa_f45c8991d159row2_col10,#T_b0d4a4c8_e4e1_11ea_84fa_f45c8991d159row2_col11,#T_b0d4a4c8_e4e1_11ea_84fa_f45c8991d159row2_col14,#T_b0d4a4c8_e4e1_11ea_84fa_f45c8991d159row2_col15,#T_b0d4a4c8_e4e1_11ea_84fa_f45c8991d159row2_col16,#T_b0d4a4c8_e4e1_11ea_84fa_f45c8991d159row2_col17,#T_b0d4a4c8_e4e1_11ea_84fa_f45c8991d159row3_col0,#T_b0d4a4c8_e4e1_11ea_84fa_f45c8991d159row3_col5,#T_b0d4a4c8_e4e1_11ea_84fa_f45c8991d159row3_col6,#T_b0d4a4c8_e4e1_11ea_84fa_f45c8991d159row3_col7,#T_b0d4a4c8_e4e1_11ea_84fa_f45c8991d159row3_col8,#T_b0d4a4c8_e4e1_11ea_84fa_f45c8991d159row3_col9,#T_b0d4a4c8_e4e1_11ea_84fa_f45c8991d159row3_col10,#T_b0d4a4c8_e4e1_11ea_84fa_f45c8991d159row3_col11,#T_b0d4a4c8_e4e1_11ea_84fa_f45c8991d159row3_col14,#T_b0d4a4c8_e4e1_11ea_84fa_f45c8991d159row3_col15,#T_b0d4a4c8_e4e1_11ea_84fa_f45c8991d159row3_col16,#T_b0d4a4c8_e4e1_11ea_84fa_f45c8991d159row3_col17,#T_b0d4a4c8_e4e1_11ea_84fa_f45c8991d159row4_col0,#T_b0d4a4c8_e4e1_11ea_84fa_f45c8991d159row4_col1,#T_b0d4a4c8_e4e1_11ea_84fa_f45c8991d159row4_col2,#T_b0d4a4c8_e4e1_11ea_84fa_f45c8991d159row4_col3,#T_b0d4a4c8_e4e1_11ea_84fa_f45c8991d159row4_col4,#T_b0d4a4c8_e4e1_11ea_84fa_f45c8991d159row4_col5,#T_b0d4a4c8_e4e1_11ea_84fa_f45c8991d159row4_col6,#T_b0d4a4c8_e4e1_11ea_84fa_f45c8991d159row4_col7,#T_b0d4a4c8_e4e1_11ea_84fa_f45c8991d159row4_col8,#T_b0d4a4c8_e4e1_11ea_84fa_f45c8991d159row4_col9,#T_b0d4a4c8_e4e1_11ea_84fa_f45c8991d159row4_col14,#T_b0d4a4c8_e4e1_11ea_84fa_f45c8991d159row4_col15,#T_b0d4a4c8_e4e1_11ea_84fa_f45c8991d159row4_col16,#T_b0d4a4c8_e4e1_11ea_84fa_f45c8991d159row4_col17,#T_b0d4a4c8_e4e1_11ea_84fa_f45c8991d159row5_col0,#T_b0d4a4c8_e4e1_11ea_84fa_f45c8991d159row5_col1,#T_b0d4a4c8_e4e1_11ea_84fa_f45c8991d159row5_col2,#T_b0d4a4c8_e4e1_11ea_84fa_f45c8991d159row5_col3,#T_b0d4a4c8_e4e1_11ea_84fa_f45c8991d159row5_col4,#T_b0d4a4c8_e4e1_11ea_84fa_f45c8991d159row5_col5,#T_b0d4a4c8_e4e1_11ea_84fa_f45c8991d159row5_col6,#T_b0d4a4c8_e4e1_11ea_84fa_f45c8991d159row5_col7,#T_b0d4a4c8_e4e1_11ea_84fa_f45c8991d159row5_col8,#T_b0d4a4c8_e4e1_11ea_84fa_f45c8991d159row5_col14,#T_b0d4a4c8_e4e1_11ea_84fa_f45c8991d159row5_col15,#T_b0d4a4c8_e4e1_11ea_84fa_f45c8991d159row5_col16,#T_b0d4a4c8_e4e1_11ea_84fa_f45c8991d159row5_col17,#T_b0d4a4c8_e4e1_11ea_84fa_f45c8991d159row6_col0,#T_b0d4a4c8_e4e1_11ea_84fa_f45c8991d159row6_col1,#T_b0d4a4c8_e4e1_11ea_84fa_f45c8991d159row6_col2,#T_b0d4a4c8_e4e1_11ea_84fa_f45c8991d159row6_col3,#T_b0d4a4c8_e4e1_11ea_84fa_f45c8991d159row6_col4,#T_b0d4a4c8_e4e1_11ea_84fa_f45c8991d159row6_col5,#T_b0d4a4c8_e4e1_11ea_84fa_f45c8991d159row6_col6,#T_b0d4a4c8_e4e1_11ea_84fa_f45c8991d159row6_col7,#T_b0d4a4c8_e4e1_11ea_84fa_f45c8991d159row6_col12,#T_b0d4a4c8_e4e1_11ea_84fa_f45c8991d159row6_col13,#T_b0d4a4c8_e4e1_11ea_84fa_f45c8991d159row6_col14,#T_b0d4a4c8_e4e1_11ea_84fa_f45c8991d159row6_col15,#T_b0d4a4c8_e4e1_11ea_84fa_f45c8991d159row6_col16,#T_b0d4a4c8_e4e1_11ea_84fa_f45c8991d159row6_col17,#T_b0d4a4c8_e4e1_11ea_84fa_f45c8991d159row7_col0,#T_b0d4a4c8_e4e1_11ea_84fa_f45c8991d159row7_col1,#T_b0d4a4c8_e4e1_11ea_84fa_f45c8991d159row7_col2,#T_b0d4a4c8_e4e1_11ea_84fa_f45c8991d159row7_col3,#T_b0d4a4c8_e4e1_11ea_84fa_f45c8991d159row7_col4,#T_b0d4a4c8_e4e1_11ea_84fa_f45c8991d159row7_col5,#T_b0d4a4c8_e4e1_11ea_84fa_f45c8991d159row7_col6,#T_b0d4a4c8_e4e1_11ea_84fa_f45c8991d159row7_col11,#T_b0d4a4c8_e4e1_11ea_84fa_f45c8991d159row7_col12,#T_b0d4a4c8_e4e1_11ea_84fa_f45c8991d159row7_col13,#T_b0d4a4c8_e4e1_11ea_84fa_f45c8991d159row7_col14,#T_b0d4a4c8_e4e1_11ea_84fa_f45c8991d159row7_col15,#T_b0d4a4c8_e4e1_11ea_84fa_f45c8991d159row7_col16,#T_b0d4a4c8_e4e1_11ea_84fa_f45c8991d159row7_col17,#T_b0d4a4c8_e4e1_11ea_84fa_f45c8991d159row8_col0,#T_b0d4a4c8_e4e1_11ea_84fa_f45c8991d159row8_col1,#T_b0d4a4c8_e4e1_11ea_84fa_f45c8991d159row8_col2,#T_b0d4a4c8_e4e1_11ea_84fa_f45c8991d159row8_col3,#T_b0d4a4c8_e4e1_11ea_84fa_f45c8991d159row8_col4,#T_b0d4a4c8_e4e1_11ea_84fa_f45c8991d159row8_col14,#T_b0d4a4c8_e4e1_11ea_84fa_f45c8991d159row8_col15,#T_b0d4a4c8_e4e1_11ea_84fa_f45c8991d159row8_col16,#T_b0d4a4c8_e4e1_11ea_84fa_f45c8991d159row8_col17,#T_b0d4a4c8_e4e1_11ea_84fa_f45c8991d159row9_col0,#T_b0d4a4c8_e4e1_11ea_84fa_f45c8991d159row9_col1,#T_b0d4a4c8_e4e1_11ea_84fa_f45c8991d159row9_col2,#T_b0d4a4c8_e4e1_11ea_84fa_f45c8991d159row9_col3,#T_b0d4a4c8_e4e1_11ea_84fa_f45c8991d159row9_col16,#T_b0d4a4c8_e4e1_11ea_84fa_f45c8991d159row9_col17,#T_b0d4a4c8_e4e1_11ea_84fa_f45c8991d159row10_col0,#T_b0d4a4c8_e4e1_11ea_84fa_f45c8991d159row10_col1,#T_b0d4a4c8_e4e1_11ea_84fa_f45c8991d159row10_col2,#T_b0d4a4c8_e4e1_11ea_84fa_f45c8991d159row10_col3,#T_b0d4a4c8_e4e1_11ea_84fa_f45c8991d159row10_col4,#T_b0d4a4c8_e4e1_11ea_84fa_f45c8991d159row10_col7,#T_b0d4a4c8_e4e1_11ea_84fa_f45c8991d159row10_col8,#T_b0d4a4c8_e4e1_11ea_84fa_f45c8991d159row10_col9,#T_b0d4a4c8_e4e1_11ea_84fa_f45c8991d159row10_col10,#T_b0d4a4c8_e4e1_11ea_84fa_f45c8991d159row10_col11,#T_b0d4a4c8_e4e1_11ea_84fa_f45c8991d159row10_col17{\n",
       "            font-size:  6pt;\n",
       "            background-color:  #ffffff;\n",
       "            color:  #000000;\n",
       "        }#T_b0d4a4c8_e4e1_11ea_84fa_f45c8991d159row0_col6{\n",
       "            font-size:  6pt;\n",
       "            background-color:  #7b7b7b;\n",
       "            color:  #000000;\n",
       "        }#T_b0d4a4c8_e4e1_11ea_84fa_f45c8991d159row0_col7,#T_b0d4a4c8_e4e1_11ea_84fa_f45c8991d159row8_col11{\n",
       "            font-size:  6pt;\n",
       "            background-color:  #707070;\n",
       "            color:  #000000;\n",
       "        }#T_b0d4a4c8_e4e1_11ea_84fa_f45c8991d159row0_col8{\n",
       "            font-size:  6pt;\n",
       "            background-color:  #272727;\n",
       "            color:  #f1f1f1;\n",
       "        }#T_b0d4a4c8_e4e1_11ea_84fa_f45c8991d159row0_col9,#T_b0d4a4c8_e4e1_11ea_84fa_f45c8991d159row0_col10,#T_b0d4a4c8_e4e1_11ea_84fa_f45c8991d159row1_col5,#T_b0d4a4c8_e4e1_11ea_84fa_f45c8991d159row1_col12,#T_b0d4a4c8_e4e1_11ea_84fa_f45c8991d159row2_col3,#T_b0d4a4c8_e4e1_11ea_84fa_f45c8991d159row2_col4,#T_b0d4a4c8_e4e1_11ea_84fa_f45c8991d159row3_col1,#T_b0d4a4c8_e4e1_11ea_84fa_f45c8991d159row3_col2,#T_b0d4a4c8_e4e1_11ea_84fa_f45c8991d159row4_col12,#T_b0d4a4c8_e4e1_11ea_84fa_f45c8991d159row5_col11,#T_b0d4a4c8_e4e1_11ea_84fa_f45c8991d159row7_col8,#T_b0d4a4c8_e4e1_11ea_84fa_f45c8991d159row8_col6,#T_b0d4a4c8_e4e1_11ea_84fa_f45c8991d159row8_col7,#T_b0d4a4c8_e4e1_11ea_84fa_f45c8991d159row8_col8,#T_b0d4a4c8_e4e1_11ea_84fa_f45c8991d159row8_col9,#T_b0d4a4c8_e4e1_11ea_84fa_f45c8991d159row9_col5,#T_b0d4a4c8_e4e1_11ea_84fa_f45c8991d159row9_col13,#T_b0d4a4c8_e4e1_11ea_84fa_f45c8991d159row10_col14,#T_b0d4a4c8_e4e1_11ea_84fa_f45c8991d159row10_col15,#T_b0d4a4c8_e4e1_11ea_84fa_f45c8991d159row10_col16{\n",
       "            font-size:  6pt;\n",
       "            background-color:  #000000;\n",
       "            color:  #f1f1f1;\n",
       "        }#T_b0d4a4c8_e4e1_11ea_84fa_f45c8991d159row0_col11{\n",
       "            font-size:  6pt;\n",
       "            background-color:  #555555;\n",
       "            color:  #f1f1f1;\n",
       "        }#T_b0d4a4c8_e4e1_11ea_84fa_f45c8991d159row0_col12,#T_b0d4a4c8_e4e1_11ea_84fa_f45c8991d159row8_col12{\n",
       "            font-size:  6pt;\n",
       "            background-color:  #8c8c8c;\n",
       "            color:  #000000;\n",
       "        }#T_b0d4a4c8_e4e1_11ea_84fa_f45c8991d159row0_col13,#T_b0d4a4c8_e4e1_11ea_84fa_f45c8991d159row4_col10{\n",
       "            font-size:  6pt;\n",
       "            background-color:  #fcfcfc;\n",
       "            color:  #000000;\n",
       "        }#T_b0d4a4c8_e4e1_11ea_84fa_f45c8991d159row1_col3{\n",
       "            font-size:  6pt;\n",
       "            background-color:  #ededed;\n",
       "            color:  #000000;\n",
       "        }#T_b0d4a4c8_e4e1_11ea_84fa_f45c8991d159row1_col4{\n",
       "            font-size:  6pt;\n",
       "            background-color:  #636363;\n",
       "            color:  #f1f1f1;\n",
       "        }#T_b0d4a4c8_e4e1_11ea_84fa_f45c8991d159row1_col6{\n",
       "            font-size:  6pt;\n",
       "            background-color:  #0d0d0d;\n",
       "            color:  #f1f1f1;\n",
       "        }#T_b0d4a4c8_e4e1_11ea_84fa_f45c8991d159row1_col7{\n",
       "            font-size:  6pt;\n",
       "            background-color:  #3c3c3c;\n",
       "            color:  #f1f1f1;\n",
       "        }#T_b0d4a4c8_e4e1_11ea_84fa_f45c8991d159row1_col8,#T_b0d4a4c8_e4e1_11ea_84fa_f45c8991d159row1_col9{\n",
       "            font-size:  6pt;\n",
       "            background-color:  #7e7e7e;\n",
       "            color:  #000000;\n",
       "        }#T_b0d4a4c8_e4e1_11ea_84fa_f45c8991d159row1_col10{\n",
       "            font-size:  6pt;\n",
       "            background-color:  #767676;\n",
       "            color:  #000000;\n",
       "        }#T_b0d4a4c8_e4e1_11ea_84fa_f45c8991d159row1_col11,#T_b0d4a4c8_e4e1_11ea_84fa_f45c8991d159row9_col11{\n",
       "            font-size:  6pt;\n",
       "            background-color:  #3a3a3a;\n",
       "            color:  #f1f1f1;\n",
       "        }#T_b0d4a4c8_e4e1_11ea_84fa_f45c8991d159row1_col13{\n",
       "            font-size:  6pt;\n",
       "            background-color:  #717171;\n",
       "            color:  #000000;\n",
       "        }#T_b0d4a4c8_e4e1_11ea_84fa_f45c8991d159row2_col2{\n",
       "            font-size:  6pt;\n",
       "            background-color:  #cdcdcd;\n",
       "            color:  #000000;\n",
       "        }#T_b0d4a4c8_e4e1_11ea_84fa_f45c8991d159row2_col5{\n",
       "            font-size:  6pt;\n",
       "            background-color:  #474747;\n",
       "            color:  #f1f1f1;\n",
       "        }#T_b0d4a4c8_e4e1_11ea_84fa_f45c8991d159row2_col6,#T_b0d4a4c8_e4e1_11ea_84fa_f45c8991d159row9_col4,#T_b0d4a4c8_e4e1_11ea_84fa_f45c8991d159row10_col6{\n",
       "            font-size:  6pt;\n",
       "            background-color:  #f2f2f2;\n",
       "            color:  #000000;\n",
       "        }#T_b0d4a4c8_e4e1_11ea_84fa_f45c8991d159row2_col12{\n",
       "            font-size:  6pt;\n",
       "            background-color:  #5f5f5f;\n",
       "            color:  #f1f1f1;\n",
       "        }#T_b0d4a4c8_e4e1_11ea_84fa_f45c8991d159row2_col13,#T_b0d4a4c8_e4e1_11ea_84fa_f45c8991d159row3_col13{\n",
       "            font-size:  6pt;\n",
       "            background-color:  #363636;\n",
       "            color:  #f1f1f1;\n",
       "        }#T_b0d4a4c8_e4e1_11ea_84fa_f45c8991d159row3_col3{\n",
       "            font-size:  6pt;\n",
       "            background-color:  #686868;\n",
       "            color:  #f1f1f1;\n",
       "        }#T_b0d4a4c8_e4e1_11ea_84fa_f45c8991d159row3_col4,#T_b0d4a4c8_e4e1_11ea_84fa_f45c8991d159row5_col9{\n",
       "            font-size:  6pt;\n",
       "            background-color:  #f3f3f3;\n",
       "            color:  #000000;\n",
       "        }#T_b0d4a4c8_e4e1_11ea_84fa_f45c8991d159row3_col12{\n",
       "            font-size:  6pt;\n",
       "            background-color:  #4b4b4b;\n",
       "            color:  #f1f1f1;\n",
       "        }#T_b0d4a4c8_e4e1_11ea_84fa_f45c8991d159row4_col11{\n",
       "            font-size:  6pt;\n",
       "            background-color:  #666666;\n",
       "            color:  #f1f1f1;\n",
       "        }#T_b0d4a4c8_e4e1_11ea_84fa_f45c8991d159row4_col13{\n",
       "            font-size:  6pt;\n",
       "            background-color:  #c0c0c0;\n",
       "            color:  #000000;\n",
       "        }#T_b0d4a4c8_e4e1_11ea_84fa_f45c8991d159row5_col10{\n",
       "            font-size:  6pt;\n",
       "            background-color:  #6b6b6b;\n",
       "            color:  #000000;\n",
       "        }#T_b0d4a4c8_e4e1_11ea_84fa_f45c8991d159row5_col12{\n",
       "            font-size:  6pt;\n",
       "            background-color:  #9a9a9a;\n",
       "            color:  #000000;\n",
       "        }#T_b0d4a4c8_e4e1_11ea_84fa_f45c8991d159row5_col13{\n",
       "            font-size:  6pt;\n",
       "            background-color:  #fefefe;\n",
       "            color:  #000000;\n",
       "        }#T_b0d4a4c8_e4e1_11ea_84fa_f45c8991d159row6_col8{\n",
       "            font-size:  6pt;\n",
       "            background-color:  #c8c8c8;\n",
       "            color:  #000000;\n",
       "        }#T_b0d4a4c8_e4e1_11ea_84fa_f45c8991d159row6_col9{\n",
       "            font-size:  6pt;\n",
       "            background-color:  #525252;\n",
       "            color:  #f1f1f1;\n",
       "        }#T_b0d4a4c8_e4e1_11ea_84fa_f45c8991d159row6_col10{\n",
       "            font-size:  6pt;\n",
       "            background-color:  #171717;\n",
       "            color:  #f1f1f1;\n",
       "        }#T_b0d4a4c8_e4e1_11ea_84fa_f45c8991d159row6_col11{\n",
       "            font-size:  6pt;\n",
       "            background-color:  #b2b2b2;\n",
       "            color:  #000000;\n",
       "        }#T_b0d4a4c8_e4e1_11ea_84fa_f45c8991d159row7_col7{\n",
       "            font-size:  6pt;\n",
       "            background-color:  #8e8e8e;\n",
       "            color:  #000000;\n",
       "        }#T_b0d4a4c8_e4e1_11ea_84fa_f45c8991d159row7_col9{\n",
       "            font-size:  6pt;\n",
       "            background-color:  #414141;\n",
       "            color:  #f1f1f1;\n",
       "        }#T_b0d4a4c8_e4e1_11ea_84fa_f45c8991d159row7_col10{\n",
       "            font-size:  6pt;\n",
       "            background-color:  #e0e0e0;\n",
       "            color:  #000000;\n",
       "        }#T_b0d4a4c8_e4e1_11ea_84fa_f45c8991d159row8_col5{\n",
       "            font-size:  6pt;\n",
       "            background-color:  #e9e9e9;\n",
       "            color:  #000000;\n",
       "        }#T_b0d4a4c8_e4e1_11ea_84fa_f45c8991d159row8_col10{\n",
       "            font-size:  6pt;\n",
       "            background-color:  #353535;\n",
       "            color:  #f1f1f1;\n",
       "        }#T_b0d4a4c8_e4e1_11ea_84fa_f45c8991d159row8_col13{\n",
       "            font-size:  6pt;\n",
       "            background-color:  #dddddd;\n",
       "            color:  #000000;\n",
       "        }#T_b0d4a4c8_e4e1_11ea_84fa_f45c8991d159row9_col6{\n",
       "            font-size:  6pt;\n",
       "            background-color:  #070707;\n",
       "            color:  #f1f1f1;\n",
       "        }#T_b0d4a4c8_e4e1_11ea_84fa_f45c8991d159row9_col7,#T_b0d4a4c8_e4e1_11ea_84fa_f45c8991d159row10_col5{\n",
       "            font-size:  6pt;\n",
       "            background-color:  #888888;\n",
       "            color:  #000000;\n",
       "        }#T_b0d4a4c8_e4e1_11ea_84fa_f45c8991d159row9_col8{\n",
       "            font-size:  6pt;\n",
       "            background-color:  #a5a5a5;\n",
       "            color:  #000000;\n",
       "        }#T_b0d4a4c8_e4e1_11ea_84fa_f45c8991d159row9_col9{\n",
       "            font-size:  6pt;\n",
       "            background-color:  #d9d9d9;\n",
       "            color:  #000000;\n",
       "        }#T_b0d4a4c8_e4e1_11ea_84fa_f45c8991d159row9_col10{\n",
       "            font-size:  6pt;\n",
       "            background-color:  #878787;\n",
       "            color:  #000000;\n",
       "        }#T_b0d4a4c8_e4e1_11ea_84fa_f45c8991d159row9_col12{\n",
       "            font-size:  6pt;\n",
       "            background-color:  #282828;\n",
       "            color:  #f1f1f1;\n",
       "        }#T_b0d4a4c8_e4e1_11ea_84fa_f45c8991d159row9_col14{\n",
       "            font-size:  6pt;\n",
       "            background-color:  #010101;\n",
       "            color:  #f1f1f1;\n",
       "        }#T_b0d4a4c8_e4e1_11ea_84fa_f45c8991d159row9_col15{\n",
       "            font-size:  6pt;\n",
       "            background-color:  #e5e5e5;\n",
       "            color:  #000000;\n",
       "        }#T_b0d4a4c8_e4e1_11ea_84fa_f45c8991d159row10_col12{\n",
       "            font-size:  6pt;\n",
       "            background-color:  #f9f9f9;\n",
       "            color:  #000000;\n",
       "        }#T_b0d4a4c8_e4e1_11ea_84fa_f45c8991d159row10_col13{\n",
       "            font-size:  6pt;\n",
       "            background-color:  #bababa;\n",
       "            color:  #000000;\n",
       "        }</style><table id=\"T_b0d4a4c8_e4e1_11ea_84fa_f45c8991d159\" ><thead>    <tr>        <th class=\"blank level0\" ></th>        <th class=\"col_heading level0 col0\" >0</th>        <th class=\"col_heading level0 col1\" >1</th>        <th class=\"col_heading level0 col2\" >2</th>        <th class=\"col_heading level0 col3\" >3</th>        <th class=\"col_heading level0 col4\" >4</th>        <th class=\"col_heading level0 col5\" >5</th>        <th class=\"col_heading level0 col6\" >6</th>        <th class=\"col_heading level0 col7\" >7</th>        <th class=\"col_heading level0 col8\" >8</th>        <th class=\"col_heading level0 col9\" >9</th>        <th class=\"col_heading level0 col10\" >10</th>        <th class=\"col_heading level0 col11\" >11</th>        <th class=\"col_heading level0 col12\" >12</th>        <th class=\"col_heading level0 col13\" >13</th>        <th class=\"col_heading level0 col14\" >14</th>        <th class=\"col_heading level0 col15\" >15</th>        <th class=\"col_heading level0 col16\" >16</th>        <th class=\"col_heading level0 col17\" >17</th>    </tr></thead><tbody>\n",
       "                <tr>\n",
       "                        <th id=\"T_b0d4a4c8_e4e1_11ea_84fa_f45c8991d159level0_row0\" class=\"row_heading level0 row0\" >0</th>\n",
       "                        <td id=\"T_b0d4a4c8_e4e1_11ea_84fa_f45c8991d159row0_col0\" class=\"data row0 col0\" >0</td>\n",
       "                        <td id=\"T_b0d4a4c8_e4e1_11ea_84fa_f45c8991d159row0_col1\" class=\"data row0 col1\" >0</td>\n",
       "                        <td id=\"T_b0d4a4c8_e4e1_11ea_84fa_f45c8991d159row0_col2\" class=\"data row0 col2\" >0</td>\n",
       "                        <td id=\"T_b0d4a4c8_e4e1_11ea_84fa_f45c8991d159row0_col3\" class=\"data row0 col3\" >0</td>\n",
       "                        <td id=\"T_b0d4a4c8_e4e1_11ea_84fa_f45c8991d159row0_col4\" class=\"data row0 col4\" >0</td>\n",
       "                        <td id=\"T_b0d4a4c8_e4e1_11ea_84fa_f45c8991d159row0_col5\" class=\"data row0 col5\" >0</td>\n",
       "                        <td id=\"T_b0d4a4c8_e4e1_11ea_84fa_f45c8991d159row0_col6\" class=\"data row0 col6\" >132</td>\n",
       "                        <td id=\"T_b0d4a4c8_e4e1_11ea_84fa_f45c8991d159row0_col7\" class=\"data row0 col7\" >161</td>\n",
       "                        <td id=\"T_b0d4a4c8_e4e1_11ea_84fa_f45c8991d159row0_col8\" class=\"data row0 col8\" >221</td>\n",
       "                        <td id=\"T_b0d4a4c8_e4e1_11ea_84fa_f45c8991d159row0_col9\" class=\"data row0 col9\" >254</td>\n",
       "                        <td id=\"T_b0d4a4c8_e4e1_11ea_84fa_f45c8991d159row0_col10\" class=\"data row0 col10\" >254</td>\n",
       "                        <td id=\"T_b0d4a4c8_e4e1_11ea_84fa_f45c8991d159row0_col11\" class=\"data row0 col11\" >186</td>\n",
       "                        <td id=\"T_b0d4a4c8_e4e1_11ea_84fa_f45c8991d159row0_col12\" class=\"data row0 col12\" >136</td>\n",
       "                        <td id=\"T_b0d4a4c8_e4e1_11ea_84fa_f45c8991d159row0_col13\" class=\"data row0 col13\" >7</td>\n",
       "                        <td id=\"T_b0d4a4c8_e4e1_11ea_84fa_f45c8991d159row0_col14\" class=\"data row0 col14\" >0</td>\n",
       "                        <td id=\"T_b0d4a4c8_e4e1_11ea_84fa_f45c8991d159row0_col15\" class=\"data row0 col15\" >0</td>\n",
       "                        <td id=\"T_b0d4a4c8_e4e1_11ea_84fa_f45c8991d159row0_col16\" class=\"data row0 col16\" >0</td>\n",
       "                        <td id=\"T_b0d4a4c8_e4e1_11ea_84fa_f45c8991d159row0_col17\" class=\"data row0 col17\" >0</td>\n",
       "            </tr>\n",
       "            <tr>\n",
       "                        <th id=\"T_b0d4a4c8_e4e1_11ea_84fa_f45c8991d159level0_row1\" class=\"row_heading level0 row1\" >1</th>\n",
       "                        <td id=\"T_b0d4a4c8_e4e1_11ea_84fa_f45c8991d159row1_col0\" class=\"data row1 col0\" >0</td>\n",
       "                        <td id=\"T_b0d4a4c8_e4e1_11ea_84fa_f45c8991d159row1_col1\" class=\"data row1 col1\" >0</td>\n",
       "                        <td id=\"T_b0d4a4c8_e4e1_11ea_84fa_f45c8991d159row1_col2\" class=\"data row1 col2\" >0</td>\n",
       "                        <td id=\"T_b0d4a4c8_e4e1_11ea_84fa_f45c8991d159row1_col3\" class=\"data row1 col3\" >34</td>\n",
       "                        <td id=\"T_b0d4a4c8_e4e1_11ea_84fa_f45c8991d159row1_col4\" class=\"data row1 col4\" >164</td>\n",
       "                        <td id=\"T_b0d4a4c8_e4e1_11ea_84fa_f45c8991d159row1_col5\" class=\"data row1 col5\" >230</td>\n",
       "                        <td id=\"T_b0d4a4c8_e4e1_11ea_84fa_f45c8991d159row1_col6\" class=\"data row1 col6\" >211</td>\n",
       "                        <td id=\"T_b0d4a4c8_e4e1_11ea_84fa_f45c8991d159row1_col7\" class=\"data row1 col7\" >206</td>\n",
       "                        <td id=\"T_b0d4a4c8_e4e1_11ea_84fa_f45c8991d159row1_col8\" class=\"data row1 col8\" >148</td>\n",
       "                        <td id=\"T_b0d4a4c8_e4e1_11ea_84fa_f45c8991d159row1_col9\" class=\"data row1 col9\" >148</td>\n",
       "                        <td id=\"T_b0d4a4c8_e4e1_11ea_84fa_f45c8991d159row1_col10\" class=\"data row1 col10\" >156</td>\n",
       "                        <td id=\"T_b0d4a4c8_e4e1_11ea_84fa_f45c8991d159row1_col11\" class=\"data row1 col11\" >206</td>\n",
       "                        <td id=\"T_b0d4a4c8_e4e1_11ea_84fa_f45c8991d159row1_col12\" class=\"data row1 col12\" >254</td>\n",
       "                        <td id=\"T_b0d4a4c8_e4e1_11ea_84fa_f45c8991d159row1_col13\" class=\"data row1 col13\" >157</td>\n",
       "                        <td id=\"T_b0d4a4c8_e4e1_11ea_84fa_f45c8991d159row1_col14\" class=\"data row1 col14\" >0</td>\n",
       "                        <td id=\"T_b0d4a4c8_e4e1_11ea_84fa_f45c8991d159row1_col15\" class=\"data row1 col15\" >0</td>\n",
       "                        <td id=\"T_b0d4a4c8_e4e1_11ea_84fa_f45c8991d159row1_col16\" class=\"data row1 col16\" >0</td>\n",
       "                        <td id=\"T_b0d4a4c8_e4e1_11ea_84fa_f45c8991d159row1_col17\" class=\"data row1 col17\" >0</td>\n",
       "            </tr>\n",
       "            <tr>\n",
       "                        <th id=\"T_b0d4a4c8_e4e1_11ea_84fa_f45c8991d159level0_row2\" class=\"row_heading level0 row2\" >2</th>\n",
       "                        <td id=\"T_b0d4a4c8_e4e1_11ea_84fa_f45c8991d159row2_col0\" class=\"data row2 col0\" >0</td>\n",
       "                        <td id=\"T_b0d4a4c8_e4e1_11ea_84fa_f45c8991d159row2_col1\" class=\"data row2 col1\" >0</td>\n",
       "                        <td id=\"T_b0d4a4c8_e4e1_11ea_84fa_f45c8991d159row2_col2\" class=\"data row2 col2\" >70</td>\n",
       "                        <td id=\"T_b0d4a4c8_e4e1_11ea_84fa_f45c8991d159row2_col3\" class=\"data row2 col3\" >240</td>\n",
       "                        <td id=\"T_b0d4a4c8_e4e1_11ea_84fa_f45c8991d159row2_col4\" class=\"data row2 col4\" >239</td>\n",
       "                        <td id=\"T_b0d4a4c8_e4e1_11ea_84fa_f45c8991d159row2_col5\" class=\"data row2 col5\" >179</td>\n",
       "                        <td id=\"T_b0d4a4c8_e4e1_11ea_84fa_f45c8991d159row2_col6\" class=\"data row2 col6\" >25</td>\n",
       "                        <td id=\"T_b0d4a4c8_e4e1_11ea_84fa_f45c8991d159row2_col7\" class=\"data row2 col7\" >0</td>\n",
       "                        <td id=\"T_b0d4a4c8_e4e1_11ea_84fa_f45c8991d159row2_col8\" class=\"data row2 col8\" >0</td>\n",
       "                        <td id=\"T_b0d4a4c8_e4e1_11ea_84fa_f45c8991d159row2_col9\" class=\"data row2 col9\" >0</td>\n",
       "                        <td id=\"T_b0d4a4c8_e4e1_11ea_84fa_f45c8991d159row2_col10\" class=\"data row2 col10\" >0</td>\n",
       "                        <td id=\"T_b0d4a4c8_e4e1_11ea_84fa_f45c8991d159row2_col11\" class=\"data row2 col11\" >0</td>\n",
       "                        <td id=\"T_b0d4a4c8_e4e1_11ea_84fa_f45c8991d159row2_col12\" class=\"data row2 col12\" >178</td>\n",
       "                        <td id=\"T_b0d4a4c8_e4e1_11ea_84fa_f45c8991d159row2_col13\" class=\"data row2 col13\" >206</td>\n",
       "                        <td id=\"T_b0d4a4c8_e4e1_11ea_84fa_f45c8991d159row2_col14\" class=\"data row2 col14\" >0</td>\n",
       "                        <td id=\"T_b0d4a4c8_e4e1_11ea_84fa_f45c8991d159row2_col15\" class=\"data row2 col15\" >0</td>\n",
       "                        <td id=\"T_b0d4a4c8_e4e1_11ea_84fa_f45c8991d159row2_col16\" class=\"data row2 col16\" >0</td>\n",
       "                        <td id=\"T_b0d4a4c8_e4e1_11ea_84fa_f45c8991d159row2_col17\" class=\"data row2 col17\" >0</td>\n",
       "            </tr>\n",
       "            <tr>\n",
       "                        <th id=\"T_b0d4a4c8_e4e1_11ea_84fa_f45c8991d159level0_row3\" class=\"row_heading level0 row3\" >3</th>\n",
       "                        <td id=\"T_b0d4a4c8_e4e1_11ea_84fa_f45c8991d159row3_col0\" class=\"data row3 col0\" >0</td>\n",
       "                        <td id=\"T_b0d4a4c8_e4e1_11ea_84fa_f45c8991d159row3_col1\" class=\"data row3 col1\" >34</td>\n",
       "                        <td id=\"T_b0d4a4c8_e4e1_11ea_84fa_f45c8991d159row3_col2\" class=\"data row3 col2\" >232</td>\n",
       "                        <td id=\"T_b0d4a4c8_e4e1_11ea_84fa_f45c8991d159row3_col3\" class=\"data row3 col3\" >160</td>\n",
       "                        <td id=\"T_b0d4a4c8_e4e1_11ea_84fa_f45c8991d159row3_col4\" class=\"data row3 col4\" >25</td>\n",
       "                        <td id=\"T_b0d4a4c8_e4e1_11ea_84fa_f45c8991d159row3_col5\" class=\"data row3 col5\" >0</td>\n",
       "                        <td id=\"T_b0d4a4c8_e4e1_11ea_84fa_f45c8991d159row3_col6\" class=\"data row3 col6\" >0</td>\n",
       "                        <td id=\"T_b0d4a4c8_e4e1_11ea_84fa_f45c8991d159row3_col7\" class=\"data row3 col7\" >0</td>\n",
       "                        <td id=\"T_b0d4a4c8_e4e1_11ea_84fa_f45c8991d159row3_col8\" class=\"data row3 col8\" >0</td>\n",
       "                        <td id=\"T_b0d4a4c8_e4e1_11ea_84fa_f45c8991d159row3_col9\" class=\"data row3 col9\" >0</td>\n",
       "                        <td id=\"T_b0d4a4c8_e4e1_11ea_84fa_f45c8991d159row3_col10\" class=\"data row3 col10\" >0</td>\n",
       "                        <td id=\"T_b0d4a4c8_e4e1_11ea_84fa_f45c8991d159row3_col11\" class=\"data row3 col11\" >0</td>\n",
       "                        <td id=\"T_b0d4a4c8_e4e1_11ea_84fa_f45c8991d159row3_col12\" class=\"data row3 col12\" >195</td>\n",
       "                        <td id=\"T_b0d4a4c8_e4e1_11ea_84fa_f45c8991d159row3_col13\" class=\"data row3 col13\" >206</td>\n",
       "                        <td id=\"T_b0d4a4c8_e4e1_11ea_84fa_f45c8991d159row3_col14\" class=\"data row3 col14\" >0</td>\n",
       "                        <td id=\"T_b0d4a4c8_e4e1_11ea_84fa_f45c8991d159row3_col15\" class=\"data row3 col15\" >0</td>\n",
       "                        <td id=\"T_b0d4a4c8_e4e1_11ea_84fa_f45c8991d159row3_col16\" class=\"data row3 col16\" >0</td>\n",
       "                        <td id=\"T_b0d4a4c8_e4e1_11ea_84fa_f45c8991d159row3_col17\" class=\"data row3 col17\" >0</td>\n",
       "            </tr>\n",
       "            <tr>\n",
       "                        <th id=\"T_b0d4a4c8_e4e1_11ea_84fa_f45c8991d159level0_row4\" class=\"row_heading level0 row4\" >4</th>\n",
       "                        <td id=\"T_b0d4a4c8_e4e1_11ea_84fa_f45c8991d159row4_col0\" class=\"data row4 col0\" >0</td>\n",
       "                        <td id=\"T_b0d4a4c8_e4e1_11ea_84fa_f45c8991d159row4_col1\" class=\"data row4 col1\" >0</td>\n",
       "                        <td id=\"T_b0d4a4c8_e4e1_11ea_84fa_f45c8991d159row4_col2\" class=\"data row4 col2\" >0</td>\n",
       "                        <td id=\"T_b0d4a4c8_e4e1_11ea_84fa_f45c8991d159row4_col3\" class=\"data row4 col3\" >0</td>\n",
       "                        <td id=\"T_b0d4a4c8_e4e1_11ea_84fa_f45c8991d159row4_col4\" class=\"data row4 col4\" >0</td>\n",
       "                        <td id=\"T_b0d4a4c8_e4e1_11ea_84fa_f45c8991d159row4_col5\" class=\"data row4 col5\" >0</td>\n",
       "                        <td id=\"T_b0d4a4c8_e4e1_11ea_84fa_f45c8991d159row4_col6\" class=\"data row4 col6\" >0</td>\n",
       "                        <td id=\"T_b0d4a4c8_e4e1_11ea_84fa_f45c8991d159row4_col7\" class=\"data row4 col7\" >0</td>\n",
       "                        <td id=\"T_b0d4a4c8_e4e1_11ea_84fa_f45c8991d159row4_col8\" class=\"data row4 col8\" >0</td>\n",
       "                        <td id=\"T_b0d4a4c8_e4e1_11ea_84fa_f45c8991d159row4_col9\" class=\"data row4 col9\" >0</td>\n",
       "                        <td id=\"T_b0d4a4c8_e4e1_11ea_84fa_f45c8991d159row4_col10\" class=\"data row4 col10\" >7</td>\n",
       "                        <td id=\"T_b0d4a4c8_e4e1_11ea_84fa_f45c8991d159row4_col11\" class=\"data row4 col11\" >170</td>\n",
       "                        <td id=\"T_b0d4a4c8_e4e1_11ea_84fa_f45c8991d159row4_col12\" class=\"data row4 col12\" >254</td>\n",
       "                        <td id=\"T_b0d4a4c8_e4e1_11ea_84fa_f45c8991d159row4_col13\" class=\"data row4 col13\" >90</td>\n",
       "                        <td id=\"T_b0d4a4c8_e4e1_11ea_84fa_f45c8991d159row4_col14\" class=\"data row4 col14\" >0</td>\n",
       "                        <td id=\"T_b0d4a4c8_e4e1_11ea_84fa_f45c8991d159row4_col15\" class=\"data row4 col15\" >0</td>\n",
       "                        <td id=\"T_b0d4a4c8_e4e1_11ea_84fa_f45c8991d159row4_col16\" class=\"data row4 col16\" >0</td>\n",
       "                        <td id=\"T_b0d4a4c8_e4e1_11ea_84fa_f45c8991d159row4_col17\" class=\"data row4 col17\" >0</td>\n",
       "            </tr>\n",
       "            <tr>\n",
       "                        <th id=\"T_b0d4a4c8_e4e1_11ea_84fa_f45c8991d159level0_row5\" class=\"row_heading level0 row5\" >5</th>\n",
       "                        <td id=\"T_b0d4a4c8_e4e1_11ea_84fa_f45c8991d159row5_col0\" class=\"data row5 col0\" >0</td>\n",
       "                        <td id=\"T_b0d4a4c8_e4e1_11ea_84fa_f45c8991d159row5_col1\" class=\"data row5 col1\" >0</td>\n",
       "                        <td id=\"T_b0d4a4c8_e4e1_11ea_84fa_f45c8991d159row5_col2\" class=\"data row5 col2\" >0</td>\n",
       "                        <td id=\"T_b0d4a4c8_e4e1_11ea_84fa_f45c8991d159row5_col3\" class=\"data row5 col3\" >0</td>\n",
       "                        <td id=\"T_b0d4a4c8_e4e1_11ea_84fa_f45c8991d159row5_col4\" class=\"data row5 col4\" >0</td>\n",
       "                        <td id=\"T_b0d4a4c8_e4e1_11ea_84fa_f45c8991d159row5_col5\" class=\"data row5 col5\" >0</td>\n",
       "                        <td id=\"T_b0d4a4c8_e4e1_11ea_84fa_f45c8991d159row5_col6\" class=\"data row5 col6\" >0</td>\n",
       "                        <td id=\"T_b0d4a4c8_e4e1_11ea_84fa_f45c8991d159row5_col7\" class=\"data row5 col7\" >0</td>\n",
       "                        <td id=\"T_b0d4a4c8_e4e1_11ea_84fa_f45c8991d159row5_col8\" class=\"data row5 col8\" >0</td>\n",
       "                        <td id=\"T_b0d4a4c8_e4e1_11ea_84fa_f45c8991d159row5_col9\" class=\"data row5 col9\" >26</td>\n",
       "                        <td id=\"T_b0d4a4c8_e4e1_11ea_84fa_f45c8991d159row5_col10\" class=\"data row5 col10\" >166</td>\n",
       "                        <td id=\"T_b0d4a4c8_e4e1_11ea_84fa_f45c8991d159row5_col11\" class=\"data row5 col11\" >253</td>\n",
       "                        <td id=\"T_b0d4a4c8_e4e1_11ea_84fa_f45c8991d159row5_col12\" class=\"data row5 col12\" >124</td>\n",
       "                        <td id=\"T_b0d4a4c8_e4e1_11ea_84fa_f45c8991d159row5_col13\" class=\"data row5 col13\" >2</td>\n",
       "                        <td id=\"T_b0d4a4c8_e4e1_11ea_84fa_f45c8991d159row5_col14\" class=\"data row5 col14\" >0</td>\n",
       "                        <td id=\"T_b0d4a4c8_e4e1_11ea_84fa_f45c8991d159row5_col15\" class=\"data row5 col15\" >0</td>\n",
       "                        <td id=\"T_b0d4a4c8_e4e1_11ea_84fa_f45c8991d159row5_col16\" class=\"data row5 col16\" >0</td>\n",
       "                        <td id=\"T_b0d4a4c8_e4e1_11ea_84fa_f45c8991d159row5_col17\" class=\"data row5 col17\" >0</td>\n",
       "            </tr>\n",
       "            <tr>\n",
       "                        <th id=\"T_b0d4a4c8_e4e1_11ea_84fa_f45c8991d159level0_row6\" class=\"row_heading level0 row6\" >6</th>\n",
       "                        <td id=\"T_b0d4a4c8_e4e1_11ea_84fa_f45c8991d159row6_col0\" class=\"data row6 col0\" >0</td>\n",
       "                        <td id=\"T_b0d4a4c8_e4e1_11ea_84fa_f45c8991d159row6_col1\" class=\"data row6 col1\" >0</td>\n",
       "                        <td id=\"T_b0d4a4c8_e4e1_11ea_84fa_f45c8991d159row6_col2\" class=\"data row6 col2\" >0</td>\n",
       "                        <td id=\"T_b0d4a4c8_e4e1_11ea_84fa_f45c8991d159row6_col3\" class=\"data row6 col3\" >0</td>\n",
       "                        <td id=\"T_b0d4a4c8_e4e1_11ea_84fa_f45c8991d159row6_col4\" class=\"data row6 col4\" >0</td>\n",
       "                        <td id=\"T_b0d4a4c8_e4e1_11ea_84fa_f45c8991d159row6_col5\" class=\"data row6 col5\" >0</td>\n",
       "                        <td id=\"T_b0d4a4c8_e4e1_11ea_84fa_f45c8991d159row6_col6\" class=\"data row6 col6\" >0</td>\n",
       "                        <td id=\"T_b0d4a4c8_e4e1_11ea_84fa_f45c8991d159row6_col7\" class=\"data row6 col7\" >0</td>\n",
       "                        <td id=\"T_b0d4a4c8_e4e1_11ea_84fa_f45c8991d159row6_col8\" class=\"data row6 col8\" >83</td>\n",
       "                        <td id=\"T_b0d4a4c8_e4e1_11ea_84fa_f45c8991d159row6_col9\" class=\"data row6 col9\" >190</td>\n",
       "                        <td id=\"T_b0d4a4c8_e4e1_11ea_84fa_f45c8991d159row6_col10\" class=\"data row6 col10\" >234</td>\n",
       "                        <td id=\"T_b0d4a4c8_e4e1_11ea_84fa_f45c8991d159row6_col11\" class=\"data row6 col11\" >104</td>\n",
       "                        <td id=\"T_b0d4a4c8_e4e1_11ea_84fa_f45c8991d159row6_col12\" class=\"data row6 col12\" >0</td>\n",
       "                        <td id=\"T_b0d4a4c8_e4e1_11ea_84fa_f45c8991d159row6_col13\" class=\"data row6 col13\" >0</td>\n",
       "                        <td id=\"T_b0d4a4c8_e4e1_11ea_84fa_f45c8991d159row6_col14\" class=\"data row6 col14\" >0</td>\n",
       "                        <td id=\"T_b0d4a4c8_e4e1_11ea_84fa_f45c8991d159row6_col15\" class=\"data row6 col15\" >0</td>\n",
       "                        <td id=\"T_b0d4a4c8_e4e1_11ea_84fa_f45c8991d159row6_col16\" class=\"data row6 col16\" >0</td>\n",
       "                        <td id=\"T_b0d4a4c8_e4e1_11ea_84fa_f45c8991d159row6_col17\" class=\"data row6 col17\" >0</td>\n",
       "            </tr>\n",
       "            <tr>\n",
       "                        <th id=\"T_b0d4a4c8_e4e1_11ea_84fa_f45c8991d159level0_row7\" class=\"row_heading level0 row7\" >7</th>\n",
       "                        <td id=\"T_b0d4a4c8_e4e1_11ea_84fa_f45c8991d159row7_col0\" class=\"data row7 col0\" >0</td>\n",
       "                        <td id=\"T_b0d4a4c8_e4e1_11ea_84fa_f45c8991d159row7_col1\" class=\"data row7 col1\" >0</td>\n",
       "                        <td id=\"T_b0d4a4c8_e4e1_11ea_84fa_f45c8991d159row7_col2\" class=\"data row7 col2\" >0</td>\n",
       "                        <td id=\"T_b0d4a4c8_e4e1_11ea_84fa_f45c8991d159row7_col3\" class=\"data row7 col3\" >0</td>\n",
       "                        <td id=\"T_b0d4a4c8_e4e1_11ea_84fa_f45c8991d159row7_col4\" class=\"data row7 col4\" >0</td>\n",
       "                        <td id=\"T_b0d4a4c8_e4e1_11ea_84fa_f45c8991d159row7_col5\" class=\"data row7 col5\" >0</td>\n",
       "                        <td id=\"T_b0d4a4c8_e4e1_11ea_84fa_f45c8991d159row7_col6\" class=\"data row7 col6\" >0</td>\n",
       "                        <td id=\"T_b0d4a4c8_e4e1_11ea_84fa_f45c8991d159row7_col7\" class=\"data row7 col7\" >134</td>\n",
       "                        <td id=\"T_b0d4a4c8_e4e1_11ea_84fa_f45c8991d159row7_col8\" class=\"data row7 col8\" >254</td>\n",
       "                        <td id=\"T_b0d4a4c8_e4e1_11ea_84fa_f45c8991d159row7_col9\" class=\"data row7 col9\" >202</td>\n",
       "                        <td id=\"T_b0d4a4c8_e4e1_11ea_84fa_f45c8991d159row7_col10\" class=\"data row7 col10\" >54</td>\n",
       "                        <td id=\"T_b0d4a4c8_e4e1_11ea_84fa_f45c8991d159row7_col11\" class=\"data row7 col11\" >0</td>\n",
       "                        <td id=\"T_b0d4a4c8_e4e1_11ea_84fa_f45c8991d159row7_col12\" class=\"data row7 col12\" >0</td>\n",
       "                        <td id=\"T_b0d4a4c8_e4e1_11ea_84fa_f45c8991d159row7_col13\" class=\"data row7 col13\" >0</td>\n",
       "                        <td id=\"T_b0d4a4c8_e4e1_11ea_84fa_f45c8991d159row7_col14\" class=\"data row7 col14\" >0</td>\n",
       "                        <td id=\"T_b0d4a4c8_e4e1_11ea_84fa_f45c8991d159row7_col15\" class=\"data row7 col15\" >0</td>\n",
       "                        <td id=\"T_b0d4a4c8_e4e1_11ea_84fa_f45c8991d159row7_col16\" class=\"data row7 col16\" >0</td>\n",
       "                        <td id=\"T_b0d4a4c8_e4e1_11ea_84fa_f45c8991d159row7_col17\" class=\"data row7 col17\" >0</td>\n",
       "            </tr>\n",
       "            <tr>\n",
       "                        <th id=\"T_b0d4a4c8_e4e1_11ea_84fa_f45c8991d159level0_row8\" class=\"row_heading level0 row8\" >8</th>\n",
       "                        <td id=\"T_b0d4a4c8_e4e1_11ea_84fa_f45c8991d159row8_col0\" class=\"data row8 col0\" >0</td>\n",
       "                        <td id=\"T_b0d4a4c8_e4e1_11ea_84fa_f45c8991d159row8_col1\" class=\"data row8 col1\" >0</td>\n",
       "                        <td id=\"T_b0d4a4c8_e4e1_11ea_84fa_f45c8991d159row8_col2\" class=\"data row8 col2\" >0</td>\n",
       "                        <td id=\"T_b0d4a4c8_e4e1_11ea_84fa_f45c8991d159row8_col3\" class=\"data row8 col3\" >0</td>\n",
       "                        <td id=\"T_b0d4a4c8_e4e1_11ea_84fa_f45c8991d159row8_col4\" class=\"data row8 col4\" >0</td>\n",
       "                        <td id=\"T_b0d4a4c8_e4e1_11ea_84fa_f45c8991d159row8_col5\" class=\"data row8 col5\" >38</td>\n",
       "                        <td id=\"T_b0d4a4c8_e4e1_11ea_84fa_f45c8991d159row8_col6\" class=\"data row8 col6\" >221</td>\n",
       "                        <td id=\"T_b0d4a4c8_e4e1_11ea_84fa_f45c8991d159row8_col7\" class=\"data row8 col7\" >254</td>\n",
       "                        <td id=\"T_b0d4a4c8_e4e1_11ea_84fa_f45c8991d159row8_col8\" class=\"data row8 col8\" >254</td>\n",
       "                        <td id=\"T_b0d4a4c8_e4e1_11ea_84fa_f45c8991d159row8_col9\" class=\"data row8 col9\" >254</td>\n",
       "                        <td id=\"T_b0d4a4c8_e4e1_11ea_84fa_f45c8991d159row8_col10\" class=\"data row8 col10\" >211</td>\n",
       "                        <td id=\"T_b0d4a4c8_e4e1_11ea_84fa_f45c8991d159row8_col11\" class=\"data row8 col11\" >161</td>\n",
       "                        <td id=\"T_b0d4a4c8_e4e1_11ea_84fa_f45c8991d159row8_col12\" class=\"data row8 col12\" >136</td>\n",
       "                        <td id=\"T_b0d4a4c8_e4e1_11ea_84fa_f45c8991d159row8_col13\" class=\"data row8 col13\" >57</td>\n",
       "                        <td id=\"T_b0d4a4c8_e4e1_11ea_84fa_f45c8991d159row8_col14\" class=\"data row8 col14\" >0</td>\n",
       "                        <td id=\"T_b0d4a4c8_e4e1_11ea_84fa_f45c8991d159row8_col15\" class=\"data row8 col15\" >0</td>\n",
       "                        <td id=\"T_b0d4a4c8_e4e1_11ea_84fa_f45c8991d159row8_col16\" class=\"data row8 col16\" >0</td>\n",
       "                        <td id=\"T_b0d4a4c8_e4e1_11ea_84fa_f45c8991d159row8_col17\" class=\"data row8 col17\" >0</td>\n",
       "            </tr>\n",
       "            <tr>\n",
       "                        <th id=\"T_b0d4a4c8_e4e1_11ea_84fa_f45c8991d159level0_row9\" class=\"row_heading level0 row9\" >9</th>\n",
       "                        <td id=\"T_b0d4a4c8_e4e1_11ea_84fa_f45c8991d159row9_col0\" class=\"data row9 col0\" >0</td>\n",
       "                        <td id=\"T_b0d4a4c8_e4e1_11ea_84fa_f45c8991d159row9_col1\" class=\"data row9 col1\" >0</td>\n",
       "                        <td id=\"T_b0d4a4c8_e4e1_11ea_84fa_f45c8991d159row9_col2\" class=\"data row9 col2\" >0</td>\n",
       "                        <td id=\"T_b0d4a4c8_e4e1_11ea_84fa_f45c8991d159row9_col3\" class=\"data row9 col3\" >0</td>\n",
       "                        <td id=\"T_b0d4a4c8_e4e1_11ea_84fa_f45c8991d159row9_col4\" class=\"data row9 col4\" >26</td>\n",
       "                        <td id=\"T_b0d4a4c8_e4e1_11ea_84fa_f45c8991d159row9_col5\" class=\"data row9 col5\" >230</td>\n",
       "                        <td id=\"T_b0d4a4c8_e4e1_11ea_84fa_f45c8991d159row9_col6\" class=\"data row9 col6\" >215</td>\n",
       "                        <td id=\"T_b0d4a4c8_e4e1_11ea_84fa_f45c8991d159row9_col7\" class=\"data row9 col7\" >139</td>\n",
       "                        <td id=\"T_b0d4a4c8_e4e1_11ea_84fa_f45c8991d159row9_col8\" class=\"data row9 col8\" >115</td>\n",
       "                        <td id=\"T_b0d4a4c8_e4e1_11ea_84fa_f45c8991d159row9_col9\" class=\"data row9 col9\" >64</td>\n",
       "                        <td id=\"T_b0d4a4c8_e4e1_11ea_84fa_f45c8991d159row9_col10\" class=\"data row9 col10\" >140</td>\n",
       "                        <td id=\"T_b0d4a4c8_e4e1_11ea_84fa_f45c8991d159row9_col11\" class=\"data row9 col11\" >206</td>\n",
       "                        <td id=\"T_b0d4a4c8_e4e1_11ea_84fa_f45c8991d159row9_col12\" class=\"data row9 col12\" >220</td>\n",
       "                        <td id=\"T_b0d4a4c8_e4e1_11ea_84fa_f45c8991d159row9_col13\" class=\"data row9 col13\" >249</td>\n",
       "                        <td id=\"T_b0d4a4c8_e4e1_11ea_84fa_f45c8991d159row9_col14\" class=\"data row9 col14\" >180</td>\n",
       "                        <td id=\"T_b0d4a4c8_e4e1_11ea_84fa_f45c8991d159row9_col15\" class=\"data row9 col15\" >47</td>\n",
       "                        <td id=\"T_b0d4a4c8_e4e1_11ea_84fa_f45c8991d159row9_col16\" class=\"data row9 col16\" >0</td>\n",
       "                        <td id=\"T_b0d4a4c8_e4e1_11ea_84fa_f45c8991d159row9_col17\" class=\"data row9 col17\" >0</td>\n",
       "            </tr>\n",
       "            <tr>\n",
       "                        <th id=\"T_b0d4a4c8_e4e1_11ea_84fa_f45c8991d159level0_row10\" class=\"row_heading level0 row10\" >10</th>\n",
       "                        <td id=\"T_b0d4a4c8_e4e1_11ea_84fa_f45c8991d159row10_col0\" class=\"data row10 col0\" >0</td>\n",
       "                        <td id=\"T_b0d4a4c8_e4e1_11ea_84fa_f45c8991d159row10_col1\" class=\"data row10 col1\" >0</td>\n",
       "                        <td id=\"T_b0d4a4c8_e4e1_11ea_84fa_f45c8991d159row10_col2\" class=\"data row10 col2\" >0</td>\n",
       "                        <td id=\"T_b0d4a4c8_e4e1_11ea_84fa_f45c8991d159row10_col3\" class=\"data row10 col3\" >0</td>\n",
       "                        <td id=\"T_b0d4a4c8_e4e1_11ea_84fa_f45c8991d159row10_col4\" class=\"data row10 col4\" >0</td>\n",
       "                        <td id=\"T_b0d4a4c8_e4e1_11ea_84fa_f45c8991d159row10_col5\" class=\"data row10 col5\" >126</td>\n",
       "                        <td id=\"T_b0d4a4c8_e4e1_11ea_84fa_f45c8991d159row10_col6\" class=\"data row10 col6\" >25</td>\n",
       "                        <td id=\"T_b0d4a4c8_e4e1_11ea_84fa_f45c8991d159row10_col7\" class=\"data row10 col7\" >0</td>\n",
       "                        <td id=\"T_b0d4a4c8_e4e1_11ea_84fa_f45c8991d159row10_col8\" class=\"data row10 col8\" >0</td>\n",
       "                        <td id=\"T_b0d4a4c8_e4e1_11ea_84fa_f45c8991d159row10_col9\" class=\"data row10 col9\" >0</td>\n",
       "                        <td id=\"T_b0d4a4c8_e4e1_11ea_84fa_f45c8991d159row10_col10\" class=\"data row10 col10\" >0</td>\n",
       "                        <td id=\"T_b0d4a4c8_e4e1_11ea_84fa_f45c8991d159row10_col11\" class=\"data row10 col11\" >0</td>\n",
       "                        <td id=\"T_b0d4a4c8_e4e1_11ea_84fa_f45c8991d159row10_col12\" class=\"data row10 col12\" >13</td>\n",
       "                        <td id=\"T_b0d4a4c8_e4e1_11ea_84fa_f45c8991d159row10_col13\" class=\"data row10 col13\" >96</td>\n",
       "                        <td id=\"T_b0d4a4c8_e4e1_11ea_84fa_f45c8991d159row10_col14\" class=\"data row10 col14\" >181</td>\n",
       "                        <td id=\"T_b0d4a4c8_e4e1_11ea_84fa_f45c8991d159row10_col15\" class=\"data row10 col15\" >253</td>\n",
       "                        <td id=\"T_b0d4a4c8_e4e1_11ea_84fa_f45c8991d159row10_col16\" class=\"data row10 col16\" >85</td>\n",
       "                        <td id=\"T_b0d4a4c8_e4e1_11ea_84fa_f45c8991d159row10_col17\" class=\"data row10 col17\" >0</td>\n",
       "            </tr>\n",
       "    </tbody></table>"
      ],
      "text/plain": [
       "<pandas.io.formats.style.Styler at 0x7fca84177eb8>"
      ]
     },
     "execution_count": 10,
     "metadata": {},
     "output_type": "execute_result"
    }
   ],
   "source": [
    "df = pd.DataFrame(img3_t)\n",
    "df.style.set_properties(**{'font-size':'6pt'}).background_gradient('Greys')"
   ]
  },
  {
   "cell_type": "markdown",
   "metadata": {},
   "source": [
    "Collect images so they are ready to be processed"
   ]
  },
  {
   "cell_type": "code",
   "execution_count": 11,
   "metadata": {},
   "outputs": [
    {
     "data": {
      "text/plain": [
       "(6131, 6265)"
      ]
     },
     "execution_count": 11,
     "metadata": {},
     "output_type": "execute_result"
    }
   ],
   "source": [
    "three_tensors = [tensor(Image.open(o)) for o in threes]\n",
    "seven_tensors = [tensor(Image.open(o)) for o in sevens]\n",
    "len(three_tensors), len(seven_tensors)"
   ]
  },
  {
   "cell_type": "markdown",
   "metadata": {},
   "source": [
    "### Tensors"
   ]
  },
  {
   "cell_type": "markdown",
   "metadata": {},
   "source": [
    "What does rank mean?"
   ]
  },
  {
   "cell_type": "markdown",
   "metadata": {},
   "source": [
    "The rank of a tensor is the number of dimensions"
   ]
  },
  {
   "cell_type": "markdown",
   "metadata": {},
   "source": [
    "To harness the power of the pytorch, we need to go a step further and combine the image tensors into one big tensor. A rank 3 tensor."
   ]
  },
  {
   "cell_type": "code",
   "execution_count": 12,
   "metadata": {},
   "outputs": [
    {
     "data": {
      "text/plain": [
       "(torch.Size([6131, 28, 28]), 3)"
      ]
     },
     "execution_count": 12,
     "metadata": {},
     "output_type": "execute_result"
    }
   ],
   "source": [
    "stacked_threes = torch.stack(three_tensors).float()/255\n",
    "stacked_threes.shape, stacked_threes.ndim"
   ]
  },
  {
   "cell_type": "code",
   "execution_count": 13,
   "metadata": {},
   "outputs": [
    {
     "data": {
      "text/plain": [
       "(torch.Size([6265, 28, 28]), 3)"
      ]
     },
     "execution_count": 13,
     "metadata": {},
     "output_type": "execute_result"
    }
   ],
   "source": [
    "stacked_sevens = torch.stack(seven_tensors).float()/255\n",
    "stacked_sevens.shape, stacked_sevens.ndim"
   ]
  },
  {
   "cell_type": "markdown",
   "metadata": {},
   "source": [
    "A rule of thumb, when calculating things such as the mean over tensors, is cast integer types to float types."
   ]
  },
  {
   "cell_type": "code",
   "execution_count": 14,
   "metadata": {},
   "outputs": [
    {
     "data": {
      "image/png": "[encoded data removed]",
      "text/plain": [
       "<Figure size 72x72 with 1 Axes>"
      ]
     },
     "metadata": {
      "needs_background": "light"
     },
     "output_type": "display_data"
    }
   ],
   "source": [
    "mean3 = stacked_threes.mean(0)\n",
    "show_image(mean3);"
   ]
  },
  {
   "cell_type": "code",
   "execution_count": 15,
   "metadata": {},
   "outputs": [
    {
     "data": {
      "image/png": "[encoded data removed]",
      "text/plain": [
       "<Figure size 72x72 with 1 Axes>"
      ]
     },
     "metadata": {
      "needs_background": "light"
     },
     "output_type": "display_data"
    }
   ],
   "source": [
    "mean7 = stacked_sevens.mean(0)\n",
    "show_image(mean7);"
   ]
  },
  {
   "cell_type": "markdown",
   "metadata": {},
   "source": [
    "### Measuring distance"
   ]
  },
  {
   "cell_type": "markdown",
   "metadata": {},
   "source": [
    "#### Mean Absolute Error (L1 Norm)"
   ]
  },
  {
   "cell_type": "markdown",
   "metadata": {},
   "source": [
    "L1 norm or mean of the absolute value of differences."
   ]
  },
  {
   "cell_type": "code",
   "execution_count": 16,
   "metadata": {},
   "outputs": [],
   "source": [
    "a_3 = stacked_threes[0]"
   ]
  },
  {
   "cell_type": "code",
   "execution_count": 17,
   "metadata": {},
   "outputs": [
    {
     "data": {
      "text/plain": [
       "tensor(0.1144)"
      ]
     },
     "execution_count": 17,
     "metadata": {},
     "output_type": "execute_result"
    }
   ],
   "source": [
    "dist_3_abs = (a_3 - mean3).abs().mean()\n",
    "dist_3_abs"
   ]
  },
  {
   "cell_type": "markdown",
   "metadata": {},
   "source": [
    "#### Root Mean Squared Error (RMSE) "
   ]
  },
  {
   "cell_type": "markdown",
   "metadata": {},
   "source": [
    "Mean of the square of differences take the square root. "
   ]
  },
  {
   "cell_type": "code",
   "execution_count": 18,
   "metadata": {},
   "outputs": [
    {
     "data": {
      "text/plain": [
       "tensor(0.2067)"
      ]
     },
     "execution_count": 18,
     "metadata": {},
     "output_type": "execute_result"
    }
   ],
   "source": [
    "dist_3_sqr = ((a_3 - mean3)**2).mean().sqrt()\n",
    "dist_3_sqr"
   ]
  },
  {
   "cell_type": "code",
   "execution_count": 19,
   "metadata": {},
   "outputs": [
    {
     "data": {
      "text/plain": [
       "(tensor(0.1001), tensor(0.1528))"
      ]
     },
     "execution_count": 19,
     "metadata": {},
     "output_type": "execute_result"
    }
   ],
   "source": [
    "a_7 = stacked_sevens[0]\n",
    "dist_7_abs = (a_7 - mean7).abs().mean()\n",
    "dist_3_abs = (a_7 - mean3).abs().mean()\n",
    "dist_7_abs, dist_3_abs"
   ]
  },
  {
   "cell_type": "code",
   "execution_count": 20,
   "metadata": {},
   "outputs": [
    {
     "data": {
      "text/plain": [
       "tensor(True)"
      ]
     },
     "execution_count": 20,
     "metadata": {},
     "output_type": "execute_result"
    }
   ],
   "source": [
    "(dist_7_abs > dist_3_abs) == 0 # Is it a 7? Yes, woohoo!"
   ]
  },
  {
   "cell_type": "code",
   "execution_count": 21,
   "metadata": {},
   "outputs": [],
   "source": [
    "def mnist_dist(a, b): return (a - b).abs().mean((-1,-2))"
   ]
  },
  {
   "cell_type": "code",
   "execution_count": 22,
   "metadata": {},
   "outputs": [],
   "source": [
    "def is_7(x): return mnist_dist(x, mean7) < mnist_dist(x, mean3)"
   ]
  },
  {
   "cell_type": "code",
   "execution_count": 23,
   "metadata": {},
   "outputs": [
    {
     "data": {
      "text/plain": [
       "(tensor(False), tensor(True))"
      ]
     },
     "execution_count": 23,
     "metadata": {},
     "output_type": "execute_result"
    }
   ],
   "source": [
    "is_7(a_3), is_7(a_7)"
   ]
  },
  {
   "cell_type": "markdown",
   "metadata": {},
   "source": [
    "### L1 Norm vs. L2 Norm"
   ]
  },
  {
   "cell_type": "markdown",
   "metadata": {},
   "source": [
    "L2 norm penalises bigger mistakes (outliers) and will be more lenient of smaller mistakes when compared against the L1 norm. For example:"
   ]
  },
  {
   "cell_type": "code",
   "execution_count": 24,
   "metadata": {},
   "outputs": [
    {
     "data": {
      "text/plain": [
       "tensor(3.5000)"
      ]
     },
     "execution_count": 24,
     "metadata": {},
     "output_type": "execute_result"
    }
   ],
   "source": [
    "tensor([0, 10, 1, 3]).float().abs().mean()"
   ]
  },
  {
   "cell_type": "code",
   "execution_count": 25,
   "metadata": {},
   "outputs": [
    {
     "data": {
      "text/plain": [
       "tensor(5.2440)"
      ]
     },
     "execution_count": 25,
     "metadata": {},
     "output_type": "execute_result"
    }
   ],
   "source": [
    "(tensor([0, 10, 1, 3]).float()**2).mean().sqrt()"
   ]
  },
  {
   "cell_type": "markdown",
   "metadata": {},
   "source": [
    "### Vectorization vs. Broadcasting"
   ]
  },
  {
   "cell_type": "markdown",
   "metadata": {},
   "source": [
    "**Broadcasting** is the computationally efficient means of operating with two tensors of unequal size."
   ]
  },
  {
   "cell_type": "code",
   "execution_count": 26,
   "metadata": {},
   "outputs": [],
   "source": [
    "valid_3_tens = torch.stack([tensor(Image.open(o)) \n",
    "                            for o in (path/'valid'/'3').ls()])\n",
    "valid_3_tens = valid_3_tens.float()/255"
   ]
  },
  {
   "cell_type": "code",
   "execution_count": 27,
   "metadata": {},
   "outputs": [
    {
     "data": {
      "text/plain": [
       "tensor(0.1144)"
      ]
     },
     "execution_count": 27,
     "metadata": {},
     "output_type": "execute_result"
    }
   ],
   "source": [
    "def mnist_distance(a,b): return (a-b).abs().mean((-1,-2)) # -1, -2 grabs image dimensions\n",
    "mnist_distance(a_3, mean3)"
   ]
  },
  {
   "cell_type": "code",
   "execution_count": 28,
   "metadata": {},
   "outputs": [
    {
     "data": {
      "text/plain": [
       "(torch.Size([1010, 28, 28]), torch.Size([28, 28]))"
      ]
     },
     "execution_count": 28,
     "metadata": {},
     "output_type": "execute_result"
    }
   ],
   "source": [
    "valid_3_tens.shape, mean3.shape"
   ]
  },
  {
   "cell_type": "code",
   "execution_count": 29,
   "metadata": {},
   "outputs": [
    {
     "data": {
      "text/plain": [
       "(tensor([0.1634, 0.1145, 0.1363,  ..., 0.1105, 0.1111, 0.1640]),\n",
       " torch.Size([1010]))"
      ]
     },
     "execution_count": 29,
     "metadata": {},
     "output_type": "execute_result"
    }
   ],
   "source": [
    "valid_3_dist = mnist_distance(valid_3_tens, mean3)\n",
    "valid_3_dist, valid_3_dist.shape"
   ]
  },
  {
   "cell_type": "markdown",
   "metadata": {},
   "source": [
    "Instead of complaining about the tensors being of different sizes, broadcasting calculates the distance between all images in the validation dataset and the \"ideal\" mean 3. In return, a tensor the length of the index of the validation dataset is given (1010 images)."
   ]
  },
  {
   "cell_type": "markdown",
   "metadata": {},
   "source": [
    "**Performance**"
   ]
  },
  {
   "cell_type": "markdown",
   "metadata": {},
   "source": [
    "1. PyTorch does not copy the mean 3 tensor 1,010 times. It pretends to without allocating additional memory.\n",
    "2. It does this whole calculation using C (or even better using a GPU, in CUDA, the equivalent of C on the GPU.)"
   ]
  },
  {
   "cell_type": "markdown",
   "metadata": {},
   "source": [
    "**Vectorization** on the other hand is a computationally efficient means of operating with two tensors or arrays of the same size. For example, two arrays/vectors can be added together on an element-wise basis. "
   ]
  },
  {
   "cell_type": "code",
   "execution_count": 30,
   "metadata": {},
   "outputs": [],
   "source": [
    "a = np.array([1, 2, 3, 4, 5])"
   ]
  },
  {
   "cell_type": "code",
   "execution_count": 31,
   "metadata": {},
   "outputs": [],
   "source": [
    "b = np.array([1, 1, 1, 5, 1])"
   ]
  },
  {
   "cell_type": "code",
   "execution_count": 32,
   "metadata": {},
   "outputs": [
    {
     "data": {
      "text/plain": [
       "array([2, 3, 4, 9, 6])"
      ]
     },
     "execution_count": 32,
     "metadata": {},
     "output_type": "execute_result"
    }
   ],
   "source": [
    "a + b"
   ]
  },
  {
   "cell_type": "markdown",
   "metadata": {},
   "source": [
    "### Stochastic Gradient Descent"
   ]
  },
  {
   "cell_type": "markdown",
   "metadata": {},
   "source": [
    "1) Initialise parameters"
   ]
  },
  {
   "cell_type": "markdown",
   "metadata": {},
   "source": [
    "2) Make predictions"
   ]
  },
  {
   "cell_type": "markdown",
   "metadata": {},
   "source": [
    "3) Calculate the loss"
   ]
  },
  {
   "cell_type": "markdown",
   "metadata": {},
   "source": [
    "4) Calculate the gradient of the loss with respect to the weights"
   ]
  },
  {
   "cell_type": "markdown",
   "metadata": {},
   "source": [
    "5) Step the weights (backpropogation)"
   ]
  },
  {
   "cell_type": "markdown",
   "metadata": {},
   "source": [
    "6) Repeat the process"
   ]
  },
  {
   "cell_type": "markdown",
   "metadata": {},
   "source": [
    "7) Stop"
   ]
  },
  {
   "cell_type": "markdown",
   "metadata": {},
   "source": [
    "### Sigmoid"
   ]
  },
  {
   "cell_type": "markdown",
   "metadata": {},
   "source": [
    "The sigmoid function always gives an output between 0 and 1. "
   ]
  },
  {
   "cell_type": "markdown",
   "metadata": {},
   "source": [
    "$$\\Large Sigmoid = \\frac{1}{1+e^{-x}}$$"
   ]
  },
  {
   "cell_type": "code",
   "execution_count": 88,
   "metadata": {},
   "outputs": [
    {
     "ename": "TypeError",
     "evalue": "sigmoid() missing 1 required positional argument: 'w'",
     "output_type": "error",
     "traceback": [
      "\u001b[0;31m---------------------------------------------------------------------------\u001b[0m",
      "\u001b[0;31mTypeError\u001b[0m                                 Traceback (most recent call last)",
      "\u001b[0;32m<ipython-input-88-703b03254d13>\u001b[0m in \u001b[0;36m<module>\u001b[0;34m\u001b[0m\n\u001b[0;32m----> 1\u001b[0;31m \u001b[0mplot_function\u001b[0m\u001b[0;34m(\u001b[0m\u001b[0msigmoid\u001b[0m\u001b[0;34m,\u001b[0m \u001b[0mtitle\u001b[0m\u001b[0;34m=\u001b[0m\u001b[0;34m'Sigmoid'\u001b[0m\u001b[0;34m,\u001b[0m \u001b[0mmin\u001b[0m\u001b[0;34m=\u001b[0m\u001b[0;34m-\u001b[0m\u001b[0;36m4\u001b[0m\u001b[0;34m,\u001b[0m \u001b[0mmax\u001b[0m\u001b[0;34m=\u001b[0m\u001b[0;36m4\u001b[0m\u001b[0;34m)\u001b[0m\u001b[0;34m\u001b[0m\u001b[0;34m\u001b[0m\u001b[0m\n\u001b[0m",
      "\u001b[0;32m~/anaconda3/envs/fastbook/lib/python3.6/site-packages/fastbook/__init__.py\u001b[0m in \u001b[0;36mplot_function\u001b[0;34m(f, tx, ty, title, min, max, figsize)\u001b[0m\n\u001b[1;32m     54\u001b[0m     \u001b[0mx\u001b[0m \u001b[0;34m=\u001b[0m \u001b[0mtorch\u001b[0m\u001b[0;34m.\u001b[0m\u001b[0mlinspace\u001b[0m\u001b[0;34m(\u001b[0m\u001b[0mmin\u001b[0m\u001b[0;34m,\u001b[0m\u001b[0mmax\u001b[0m\u001b[0;34m)\u001b[0m\u001b[0;34m\u001b[0m\u001b[0;34m\u001b[0m\u001b[0m\n\u001b[1;32m     55\u001b[0m     \u001b[0mfig\u001b[0m\u001b[0;34m,\u001b[0m\u001b[0max\u001b[0m \u001b[0;34m=\u001b[0m \u001b[0mplt\u001b[0m\u001b[0;34m.\u001b[0m\u001b[0msubplots\u001b[0m\u001b[0;34m(\u001b[0m\u001b[0mfigsize\u001b[0m\u001b[0;34m=\u001b[0m\u001b[0mfigsize\u001b[0m\u001b[0;34m)\u001b[0m\u001b[0;34m\u001b[0m\u001b[0;34m\u001b[0m\u001b[0m\n\u001b[0;32m---> 56\u001b[0;31m     \u001b[0max\u001b[0m\u001b[0;34m.\u001b[0m\u001b[0mplot\u001b[0m\u001b[0;34m(\u001b[0m\u001b[0mx\u001b[0m\u001b[0;34m,\u001b[0m\u001b[0mf\u001b[0m\u001b[0;34m(\u001b[0m\u001b[0mx\u001b[0m\u001b[0;34m)\u001b[0m\u001b[0;34m)\u001b[0m\u001b[0;34m\u001b[0m\u001b[0;34m\u001b[0m\u001b[0m\n\u001b[0m\u001b[1;32m     57\u001b[0m     \u001b[0;32mif\u001b[0m \u001b[0mtx\u001b[0m \u001b[0;32mis\u001b[0m \u001b[0;32mnot\u001b[0m \u001b[0;32mNone\u001b[0m\u001b[0;34m:\u001b[0m \u001b[0max\u001b[0m\u001b[0;34m.\u001b[0m\u001b[0mset_xlabel\u001b[0m\u001b[0;34m(\u001b[0m\u001b[0mtx\u001b[0m\u001b[0;34m)\u001b[0m\u001b[0;34m\u001b[0m\u001b[0;34m\u001b[0m\u001b[0m\n\u001b[1;32m     58\u001b[0m     \u001b[0;32mif\u001b[0m \u001b[0mty\u001b[0m \u001b[0;32mis\u001b[0m \u001b[0;32mnot\u001b[0m \u001b[0;32mNone\u001b[0m\u001b[0;34m:\u001b[0m \u001b[0max\u001b[0m\u001b[0;34m.\u001b[0m\u001b[0mset_ylabel\u001b[0m\u001b[0;34m(\u001b[0m\u001b[0mty\u001b[0m\u001b[0;34m)\u001b[0m\u001b[0;34m\u001b[0m\u001b[0;34m\u001b[0m\u001b[0m\n",
      "\u001b[0;31mTypeError\u001b[0m: sigmoid() missing 1 required positional argument: 'w'"
     ]
    },
    {
     "data": {
      "image/png": "[encoded data removed]",
      "text/plain": [
       "<Figure size 432x288 with 1 Axes>"
      ]
     },
     "metadata": {
      "needs_background": "light"
     },
     "output_type": "display_data"
    }
   ],
   "source": [
    "plot_function(sigmoid, title='Sigmoid', min=-4, max=4)"
   ]
  },
  {
   "cell_type": "code",
   "execution_count": 38,
   "metadata": {},
   "outputs": [
    {
     "data": {
      "text/plain": [
       "tensor([0.5000, 0.0000])"
      ]
     },
     "execution_count": 38,
     "metadata": {},
     "output_type": "execute_result"
    }
   ],
   "source": [
    "torch.sigmoid(Tensor([0, -1566]))"
   ]
  },
  {
   "cell_type": "markdown",
   "metadata": {},
   "source": [
    "Observations:\n",
    "* When x is 0, y = 0.5\n",
    "* When x is -1566 = 0"
   ]
  },
  {
   "cell_type": "markdown",
   "metadata": {},
   "source": [
    "*High School Math Flashback: e to the x or $\\large e^x$ is often referred to as the exponential function.*\n",
    "\n",
    "$e = 2.718281828459045 ...$\n",
    "\n",
    "Exponential growth shows greater rates of increase over time. Whereas exponential decay - being the inverse - shows lesser rates of decrease over time."
   ]
  },
  {
   "cell_type": "code",
   "execution_count": 39,
   "metadata": {},
   "outputs": [
    {
     "data": {
      "image/png": "[encoded data removed]",
      "text/plain": [
       "<Figure size 432x288 with 1 Axes>"
      ]
     },
     "metadata": {
      "needs_background": "light"
     },
     "output_type": "display_data"
    }
   ],
   "source": [
    "# Exponential Growth\n",
    "plot_function(torch.exp, title='Exponential', min=-4, max=4)"
   ]
  },
  {
   "cell_type": "code",
   "execution_count": 40,
   "metadata": {},
   "outputs": [],
   "source": [
    "# Exponential Decay\n",
    "def exp_neg(x): return torch.exp(-x)"
   ]
  },
  {
   "cell_type": "code",
   "execution_count": 41,
   "metadata": {},
   "outputs": [
    {
     "data": {
      "image/png": "[encoded data removed]",
      "text/plain": [
       "<Figure size 432x288 with 1 Axes>"
      ]
     },
     "metadata": {
      "needs_background": "light"
     },
     "output_type": "display_data"
    }
   ],
   "source": [
    "plot_function(exp_neg, title='Exponential', min=-4, max=4)"
   ]
  },
  {
   "cell_type": "markdown",
   "metadata": {},
   "source": [
    "### What role does bias play?"
   ]
  },
  {
   "cell_type": "code",
   "execution_count": 42,
   "metadata": {},
   "outputs": [],
   "source": [
    "def linear1(xb): return xb@weights + bias"
   ]
  },
  {
   "cell_type": "markdown",
   "metadata": {},
   "source": [
    "The bias value allows the activation functon to shift either to the left or to the right to better fit the data. \n",
    "\n",
    "In the case of a sigmoid, the weights dictate the steepness of the function whereas adding a bias (-/+) moves the function left or right. Proportionate to the magnitude of the bias, inputs will be either penalized or amplified.\n",
    "\n",
    "Bias is a way to bake in beliefs specific to the problem domain. For example, a simple linear model that predicts house prices in Australia may consider a bias such as Australia's median house price."
   ]
  },
  {
   "cell_type": "markdown",
   "metadata": {},
   "source": [
    "[What is the role of the bias?](https://stackoverflow.com/questions/2480650/what-is-the-role-of-the-bias-in-neural-networks)"
   ]
  },
  {
   "cell_type": "markdown",
   "metadata": {},
   "source": [
    "To show how weights "
   ]
  },
  {
   "cell_type": "code",
   "execution_count": 95,
   "metadata": {},
   "outputs": [],
   "source": [
    "def sigmoid(x, w=1, b=0): return 1/(1+torch.exp(-(w*x+b)))"
   ]
  },
  {
   "cell_type": "code",
   "execution_count": 98,
   "metadata": {},
   "outputs": [
    {
     "data": {
      "text/plain": [
       "Text(0.5, 1.0, 'Sigmoid with differing weights')"
      ]
     },
     "execution_count": 98,
     "metadata": {},
     "output_type": "execute_result"
    },
    {
     "data": {
      "image/png": "[encoded data removed]",
      "text/plain": [
       "<Figure size 432x288 with 1 Axes>"
      ]
     },
     "metadata": {
      "needs_background": "light"
     },
     "output_type": "display_data"
    }
   ],
   "source": [
    "figsize=(6,4)\n",
    "min, max = -4, 4\n",
    "fig,ax = plt.subplots(figsize=figsize)\n",
    "for w in [0.2, 0.5, 0.8, 1]:\n",
    "    x = torch.linspace(min,max)\n",
    "    ax.plot(x,sigmoid(x, w=w))\n",
    "ax.set_title('Sigmoid with differing weights')"
   ]
  },
  {
   "cell_type": "code",
   "execution_count": 99,
   "metadata": {},
   "outputs": [
    {
     "data": {
      "text/plain": [
       "Text(0.5, 1.0, 'Sigmoid with differing bias')"
      ]
     },
     "execution_count": 99,
     "metadata": {},
     "output_type": "execute_result"
    },
    {
     "data": {
      "image/png": "[encoded data removed]",
      "text/plain": [
       "<Figure size 432x288 with 1 Axes>"
      ]
     },
     "metadata": {
      "needs_background": "light"
     },
     "output_type": "display_data"
    }
   ],
   "source": [
    "figsize=(6,4)\n",
    "min, max = -4, 4\n",
    "fig,ax = plt.subplots(figsize=figsize)\n",
    "for b in [0.2, 0.5, 0.8, 1]:\n",
    "    x = torch.linspace(min,max)\n",
    "    ax.plot(x,sigmoid(x, b=b))\n",
    "ax.set_title('Sigmoid with differing bias')"
   ]
  },
  {
   "cell_type": "code",
   "execution_count": null,
   "metadata": {},
   "outputs": [],
   "source": []
  }
 ],
 "metadata": {
  "kernelspec": {
   "display_name": "fastbook",
   "language": "python",
   "name": "fastbook"
  },
  "language_info": {
   "codemirror_mode": {
    "name": "ipython",
    "version": 3
   },
   "file_extension": ".py",
   "mimetype": "text/x-python",
   "name": "python",
   "nbconvert_exporter": "python",
   "pygments_lexer": "ipython3",
   "version": "3.6.10"
  }
 },
 "nbformat": 4,
 "nbformat_minor": 4
}
