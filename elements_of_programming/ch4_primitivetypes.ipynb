{
 "cells": [
  {
   "cell_type": "markdown",
   "metadata": {},
   "source": [
    "# Chapter 4 Primitive Types"
   ]
  },
  {
   "cell_type": "code",
   "execution_count": 1,
   "metadata": {},
   "outputs": [],
   "source": [
    "# Count the number of bits that are set to 1 in a positive integer\n",
    "def count_bits(x):\n",
    "    num_bits = 0\n",
    "    while x: # computation of O(1) per bit thus O(n)\n",
    "        num_bits += x & 1\n",
    "        x >>= 1\n",
    "    return num_bits"
   ]
  },
  {
   "cell_type": "code",
   "execution_count": 8,
   "metadata": {},
   "outputs": [
    {
     "name": "stdout",
     "output_type": "stream",
     "text": [
      "Int: 0b10111\n",
      "Num bits: 4\n"
     ]
    }
   ],
   "source": [
    "int_ = 23\n",
    "print(f'Int: {bin(int_)}')\n",
    "print(f'Num bits: {count_bits(int_)}')"
   ]
  },
  {
   "cell_type": "markdown",
   "metadata": {},
   "source": [
    "## Bitwise Operators"
   ]
  },
  {
   "cell_type": "markdown",
   "metadata": {},
   "source": [
    "| OPERATOR | DESCRIPTION | SYNTAX |\n",
    "| --- | --- | --- |\n",
    "| & | Bitwise AND | x & y|\n",
    "| \\| | Bitwise OR | x \\| y|\n",
    "| ~ | Bitwise NOT | ~x|\n",
    "| ^ | Bitwise XOR | x ^ y|\n",
    "| >> | Bitwise RIGHT SHIFT | x >> y|\n",
    "| << | Bitwise LEFT SHIFT | x << y|\n"
   ]
  },
  {
   "cell_type": "markdown",
   "metadata": {},
   "source": [
    "## Python Idiosyncrasies"
   ]
  },
  {
   "cell_type": "markdown",
   "metadata": {},
   "source": [
    "Python has a number of built-in types: numerics (i.e. int, float), sequences (i.e. list), mappings (e.g. dict), as well as, classes, instances and exceptions. All of which are objects.\n",
    "\n",
    "- Integers in Python3 are unbounded - the maximum integer representable is a function of the available memory.\n",
    "- The constant sys.maxsize can be used to find the 'word-size'; specifically it's the maximum value integer that can be stored in a word. For **32 bit machines**, it is usually $2^{31} - 1$, and for **64 bit machines**, $2^{63} - 1$."
   ]
  },
  {
   "cell_type": "code",
   "execution_count": 12,
   "metadata": {},
   "outputs": [
    {
     "name": "stdout",
     "output_type": "stream",
     "text": [
      "9223372036854775807\n"
     ]
    }
   ],
   "source": [
    "import sys\n",
    "print(sys.maxsize)"
   ]
  },
  {
   "cell_type": "markdown",
   "metadata": {},
   "source": [
    "Bounds on floats can be found by running:"
   ]
  },
  {
   "cell_type": "code",
   "execution_count": 17,
   "metadata": {},
   "outputs": [
    {
     "data": {
      "text/plain": [
       "sys.float_info(max=1.7976931348623157e+308, max_exp=1024, max_10_exp=308, min=2.2250738585072014e-308, min_exp=-1021, min_10_exp=-307, dig=15, mant_dig=53, epsilon=2.220446049250313e-16, radix=2, rounds=1)"
      ]
     },
     "execution_count": 17,
     "metadata": {},
     "output_type": "execute_result"
    }
   ],
   "source": [
    "sys.float_info"
   ]
  },
  {
   "cell_type": "markdown",
   "metadata": {},
   "source": [
    "Signedness is a property of data types with respect to how numbers are stored in computers.\n",
    "- An integer is signed if it can represent both positive and negative numbers. \n",
    "- An unsigned integer can only represent non-negative numbers (zero or positive). \n",
    "\n",
    "Given signed numbers can represent negative numbers, they lose a range of positive numbers otherwise possible by unsigned numbers of the same size.\n",
    "\n",
    "TODO: REVIEW AND EXPAND"
   ]
  },
  {
   "cell_type": "code",
   "execution_count": null,
   "metadata": {},
   "outputs": [],
   "source": []
  }
 ],
 "metadata": {
  "kernelspec": {
   "display_name": "Python 3",
   "language": "python",
   "name": "python3"
  },
  "language_info": {
   "codemirror_mode": {
    "name": "ipython",
    "version": 3
   },
   "file_extension": ".py",
   "mimetype": "text/x-python",
   "name": "python",
   "nbconvert_exporter": "python",
   "pygments_lexer": "ipython3",
   "version": "3.7.6"
  }
 },
 "nbformat": 4,
 "nbformat_minor": 4
}
